{
 "cells": [
  {
   "metadata": {},
   "cell_type": "markdown",
   "source": [
    "Vector Store 向量存储是一种专门的数据存储方式，能够基于向量表示进行索引和检索信息。经常用于搜索非结构化数据，例如文本、图像和音频，以根据语义相似性而不是精确的关键字匹配来检索相关信息。\n",
    "\n",
    "![Similarity Search](https://python.langchain.com/assets/images/vectorstores-2540b4bc355b966c99b0f02cfdddb273.png)\n",
    "\n",
    "这是 Vector stores 官方提供集成的[表格](https://python.langchain.com/docs/integrations/vectorstores/)。、\n",
    "\n",
    "接下来，我们使用 OpenAI 的 interface 来创建一个 [vector store](https://python.langchain.com/api_reference/core/vectorstores/langchain_core.vectorstores.in_memory.InMemoryVectorStore.html#inmemoryvectorstore)。"
   ],
   "id": "bcb1d87cf904d905"
  },
  {
   "metadata": {
    "ExecuteTime": {
     "end_time": "2025-04-07T18:48:51.414987Z",
     "start_time": "2025-04-07T18:48:51.350139Z"
    }
   },
   "cell_type": "code",
   "source": [
    "# 还是一样，先把我们所有的配置类写在前面\n",
    "from dotenv import load_dotenv, find_dotenv\n",
    "\n",
    "_ = load_dotenv(find_dotenv())\n",
    "\n",
    "from langchain_openai import ChatOpenAI\n",
    "\n",
    "llm = ChatOpenAI(\n",
    "    model=\"gpt-4o\",\n",
    "    temperature=0.0,\n",
    "    max_tokens=2048,\n",
    "    timeout=None,\n",
    "    max_retries=2,\n",
    ")"
   ],
   "id": "3d85e3684038bb24",
   "outputs": [],
   "execution_count": 26
  },
  {
   "metadata": {
    "ExecuteTime": {
     "end_time": "2025-04-07T18:48:53.127892Z",
     "start_time": "2025-04-07T18:48:53.087436Z"
    }
   },
   "cell_type": "code",
   "source": [
    "from langchain_core.vectorstores import InMemoryVectorStore\n",
    "from langchain_openai import OpenAIEmbeddings\n",
    "\n",
    "# 初始化向量存储\n",
    "vector_store = InMemoryVectorStore(OpenAIEmbeddings())"
   ],
   "id": "a970a0daa27b0f6c",
   "outputs": [],
   "execution_count": 27
  },
  {
   "metadata": {},
   "cell_type": "code",
   "outputs": [],
   "execution_count": null,
   "source": [
    "# 我们有几个方式读取文件，第一个是自己写一个函数\n",
    "from langchain_core.documents import Document\n",
    "import chardet\n",
    "\n",
    "def read_from_file(path: str) -> None | Document:\n",
    "    # 检测文件编码格式\n",
    "    with open(path, \"rb\") as f:\n",
    "        raw = f.read()\n",
    "        result = chardet.detect(raw)\n",
    "        encoding = result['encoding']\n",
    "    # 用检测到的编码方式来读取文本\n",
    "    with open(path, \"r\", encoding=encoding) as f:\n",
    "        content = f.read()\n",
    "    return Document(page_content=content, metadata={\"source\": path})\n",
    "\n",
    "# 或者是我们使用 LangChain 自带的加载器\n",
    "# 但是需要安装依赖环境\n",
    "# !pip install pypdf\n",
    "from langchain_community.document_loaders import PyPDFLoader\n",
    "doc_1 = PyPDFLoader(\"./documents/ECE273_syllabus.pdf\").load()\n",
    "doc_2 = PyPDFLoader(\"./documents/ECE208_homework_tutorial.pdf\").load()\n",
    "doc_3 = PyPDFLoader(\"./documents/ECE269_Final-A-Solution.pdf\").load()"
   ],
   "id": "8092e1ad66e7ee1a"
  },
  {
   "metadata": {},
   "cell_type": "markdown",
   "source": "LangChain 给我们提供了很多种方式进行文件的读取 [Document loaders](https://python.langchain.com/docs/how_to/#document-loaders)，包含着 PDF、web pages、CSV、JSON 等等。同时 LangChain 也提供了部分平台的数据接口，可以参考[官方文档](https://python.langchain.com/docs/integrations/document_loaders/)。",
   "id": "8f4c637458f154a0"
  },
  {
   "metadata": {
    "ExecuteTime": {
     "end_time": "2025-04-07T18:48:55.170793Z",
     "start_time": "2025-04-07T18:48:55.166597Z"
    }
   },
   "cell_type": "code",
   "source": [
    "# 为了方便导入，我们所有的文档只选择第一面，也就是 doc[0] 这一项\n",
    "doc_1 = Document(id=\"ece_273_page_1\", page_content=doc_1[0].page_content, metadata=doc_1[0].metadata)\n",
    "doc_2 = Document(id=\"ece_208_page_1\", page_content=doc_2[0].page_content, metadata=doc_2[0].metadata)\n",
    "doc_3 = Document(id=\"ece_269_page_1\", page_content=doc_3[0].page_content, metadata=doc_3[0].metadata)"
   ],
   "id": "3f6fdf48536b3155",
   "outputs": [],
   "execution_count": 29
  },
  {
   "metadata": {
    "ExecuteTime": {
     "end_time": "2025-04-07T18:48:57.799239Z",
     "start_time": "2025-04-07T18:48:56.053172Z"
    }
   },
   "cell_type": "code",
   "source": [
    "documents = [doc_1, doc_2, doc_3]\n",
    "vector_store.add_documents(documents=documents)"
   ],
   "id": "4ecb6a9339ff6b0f",
   "outputs": [
    {
     "data": {
      "text/plain": [
       "['ece_273_page_1', 'ece_208_page_1', 'ece_269_page_1']"
      ]
     },
     "execution_count": 30,
     "metadata": {},
     "output_type": "execute_result"
    }
   ],
   "execution_count": 30
  },
  {
   "metadata": {
    "ExecuteTime": {
     "end_time": "2025-04-07T18:54:11.011727Z",
     "start_time": "2025-04-07T18:54:11.005942Z"
    }
   },
   "cell_type": "code",
   "source": [
    "# 遍历向量数据库的前 3 条数据查看内容\n",
    "top_n = 3\n",
    "for index, (id, doc) in enumerate(vector_store.store.items()):\n",
    "    if index < top_n:\n",
    "        print(\"==============================\")\n",
    "        # docs have keys 'id', 'vector', 'text', 'metadata'\n",
    "        print(f\"Document {index + 1}: {id}\\nContent: {doc['text'][:200]}...\")\n",
    "    else:\n",
    "        break"
   ],
   "id": "a73268f7565ce0be",
   "outputs": [
    {
     "name": "stdout",
     "output_type": "stream",
     "text": [
      "==============================\n",
      "Document 1: ece_273_page_1\n",
      "Content: ECE273: Convex Optimization and Applications — Spring 2025\n",
      "Course Description:This course covers the theoretical and algorithmic foundations of optimiza-\n",
      "tion. We will cover some convex analysis and d...\n",
      "==============================\n",
      "Document 2: ece_208_page_1\n",
      "Content: ECE 208 Homework tutorial\n",
      "WI-22\n",
      "This is a short tutorial on how to use GitHub Classroom. It will cover some usage of GitHub\n",
      "commands, but we recommend you to refer to other materials for learning how ...\n",
      "==============================\n",
      "Document 3: ece_269_page_1\n",
      "Content: Exam-A Solution\n",
      "ECE 269- Linear Algebra and Applications, Final (A)\n",
      "1. (20 points) Prove or disprove each statement:\n",
      "(a) Every orthogonal matrixQ → Rn→n is diagonalizable overR.\n",
      "Solution: False. Count...\n"
     ]
    }
   ],
   "execution_count": 41
  },
  {
   "metadata": {
    "ExecuteTime": {
     "end_time": "2025-04-07T19:03:09.038306Z",
     "start_time": "2025-04-07T19:03:07.729057Z"
    }
   },
   "cell_type": "code",
   "source": [
    "# 使用查询语句 \"syllabus\" 进行向量检索\n",
    "# k=1 表示返回最相似的 1 条文档\n",
    "\n",
    "results = vector_store.similarity_search(query=\"document that contains some questions\",k=1)\n",
    "for doc in results:\n",
    "    print(f\"* {doc.page_content[:200]}\\nmetadata:[{doc.metadata}]\")"
   ],
   "id": "4d04acdf3527304b",
   "outputs": [
    {
     "name": "stdout",
     "output_type": "stream",
     "text": [
      "* Exam-A Solution\n",
      "ECE 269- Linear Algebra and Applications, Final (A)\n",
      "1. (20 points) Prove or disprove each statement:\n",
      "(a) Every orthogonal matrixQ → Rn→n is diagonalizable overR.\n",
      "Solution: False. Count\n",
      "metadata:[{'producer': 'macOS Version 15.3.2 (Build 24D81) Quartz PDFContext', 'creator': 'LaTeX with hyperref', 'creationdate': \"D:20250407183239Z00'00'\", 'moddate': \"D:20250407183239Z00'00'\", 'source': './documents/ECE269_Final-A-Solution.pdf', 'total_pages': 6, 'page': 0, 'page_label': '1'}]\n"
     ]
    }
   ],
   "execution_count": 47
  },
  {
   "metadata": {},
   "cell_type": "markdown",
   "source": [
    "可以看到，我们嵌入的指令是：`vector_store = InMemoryVectorStore(OpenAIEmbeddings())`，即任何添加到 `vector_store` 的文档都进行了嵌入。我们使用 `query=\"document that contains some questions\"` 进行搜索的时候，尽管我们的文档中没有任何 \"question\" 的字眼，但是计算机理解了文档的含义并给出了最符合 `question` 的文档（就是上学期的期末考试 PDF 文档）。\n",
    "\n",
    "[官方文档](https://python.langchain.com/api_reference/core/vectorstores/langchain_core.vectorstores.in_memory.InMemoryVectorStore.html#langchain_core.vectorstores.in_memory.InMemoryVectorStore)也有关于 filter 的使用，很简单，具体操作如下：\n",
    "```python\n",
    "def _filter_function(doc: Document) -> bool:\n",
    "    return doc.metadata.get(\"bar\") == \"baz\"\n",
    "\n",
    "results = vector_store.similarity_search(\n",
    "    query=\"thud\", k=1, filter=_filter_function\n",
    ")\n",
    "for doc in results:\n",
    "    print(f\"* {doc.page_content} [{doc.metadata}]\")\n",
    "```"
   ],
   "id": "eb41e55e4a044298"
  },
  {
   "metadata": {
    "ExecuteTime": {
     "end_time": "2025-04-07T19:12:56.635030Z",
     "start_time": "2025-04-07T19:12:55.977364Z"
    }
   },
   "cell_type": "code",
   "source": [
    "# 我们可以通过计算 score 的方法，直观的看出相似匹配度\n",
    "results = vector_store.similarity_search_with_score(\n",
    "    query=\"documents that contain the course grading and topics in this quarter\", k=3\n",
    ")\n",
    "for doc, score in results:\n",
    "    print(f\"* [SIM={score:3f}]\\nContent: {doc.page_content[:100]}\\nMetadata:[{doc.metadata}]\")"
   ],
   "id": "5ac7e72c24c7d3f5",
   "outputs": [
    {
     "name": "stdout",
     "output_type": "stream",
     "text": [
      "* [SIM=0.791037]\n",
      "Content: ECE273: Convex Optimization and Applications — Spring 2025\n",
      "Course Description:This course covers the\n",
      "Metadata:[{'producer': 'macOS Version 15.3.2 (Build 24D81) Quartz PDFContext', 'creator': 'Preview', 'creationdate': \"D:20250407182812Z00'00'\", 'title': 'syllabus', 'author': 'Nethan Hu', 'moddate': \"D:20250407182812Z00'00'\", 'source': './documents/ECE273_syllabus.pdf', 'total_pages': 6, 'page': 0, 'page_label': '1'}]\n",
      "* [SIM=0.761357]\n",
      "Content: ECE 208 Homework tutorial\n",
      "WI-22\n",
      "This is a short tutorial on how to use GitHub Classroom. It will cov\n",
      "Metadata:[{'producer': 'macOS Version 15.3.2 (Build 24D81) Quartz PDFContext', 'creator': 'LaTeX with hyperref', 'creationdate': \"D:20250407183313Z00'00'\", 'moddate': \"D:20250407183313Z00'00'\", 'source': './documents/ECE208_homework_tutorial.pdf', 'total_pages': 2, 'page': 0, 'page_label': '1'}]\n",
      "* [SIM=0.726692]\n",
      "Content: Exam-A Solution\n",
      "ECE 269- Linear Algebra and Applications, Final (A)\n",
      "1. (20 points) Prove or disprove\n",
      "Metadata:[{'producer': 'macOS Version 15.3.2 (Build 24D81) Quartz PDFContext', 'creator': 'LaTeX with hyperref', 'creationdate': \"D:20250407183239Z00'00'\", 'moddate': \"D:20250407183239Z00'00'\", 'source': './documents/ECE269_Final-A-Solution.pdf', 'total_pages': 6, 'page': 0, 'page_label': '1'}]\n"
     ]
    }
   ],
   "execution_count": 50
  },
  {
   "metadata": {},
   "cell_type": "markdown",
   "source": "可以看到，尽管三个文档都有 grading 的内容，但是通过 topics 这个关键词，我们的嵌入 LLM 还是认为最匹配的是第一个文档，即 syllabus。我们进行包装一下，使用一个简单的 RAG 功能 `.as_retriever()`。这段代码创建了一个支持 MMR（最大边际相关性）的检索器 retriever，它能从向量库中返回与查询 query 最相关且多样化的文档，用于后续 LLM 生成回答（即 RAG 流程中的“Retrieve”步骤）。",
   "id": "e558be0d024204db"
  },
  {
   "metadata": {
    "ExecuteTime": {
     "end_time": "2025-04-07T19:24:40.237867Z",
     "start_time": "2025-04-07T19:24:39.386217Z"
    }
   },
   "cell_type": "code",
   "source": [
    "retriever = vector_store.as_retriever(\n",
    "    search_type=\"mmr\",\n",
    "    search_kwargs={\"k\": 1, \"fetch_k\": 2, \"lambda_mult\": 0.5},\n",
    ")\n",
    "ans = retriever.invoke(\"I want to find some documents that teach me how to upload my homework.\")\n",
    "print(f\"Doc id: {ans[0].id}\\nmetadata: {ans[0].metadata}\\npage_content: {ans[0].page_content[:200]}\")"
   ],
   "id": "6c4127ec0c339c94",
   "outputs": [
    {
     "name": "stdout",
     "output_type": "stream",
     "text": [
      "Doc id: ece_208_page_1\n",
      "metadata: {'producer': 'macOS Version 15.3.2 (Build 24D81) Quartz PDFContext', 'creator': 'LaTeX with hyperref', 'creationdate': \"D:20250407183313Z00'00'\", 'moddate': \"D:20250407183313Z00'00'\", 'source': './documents/ECE208_homework_tutorial.pdf', 'total_pages': 2, 'page': 0, 'page_label': '1'}\n",
      "page_content: ECE 208 Homework tutorial\n",
      "WI-22\n",
      "This is a short tutorial on how to use GitHub Classroom. It will cover some usage of GitHub\n",
      "commands, but we recommend you to refer to other materials for learning how \n"
     ]
    }
   ],
   "execution_count": 53
  }
 ],
 "metadata": {
  "kernelspec": {
   "display_name": "Python 3",
   "language": "python",
   "name": "python3"
  },
  "language_info": {
   "codemirror_mode": {
    "name": "ipython",
    "version": 2
   },
   "file_extension": ".py",
   "mimetype": "text/x-python",
   "name": "python",
   "nbconvert_exporter": "python",
   "pygments_lexer": "ipython2",
   "version": "2.7.6"
  }
 },
 "nbformat": 4,
 "nbformat_minor": 5
}
