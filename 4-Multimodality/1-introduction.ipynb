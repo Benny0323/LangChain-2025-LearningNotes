{
 "cells": [
  {
   "metadata": {},
   "cell_type": "markdown",
   "source": [
    "from langchain_core.messages import HumanMessage## 多模态的定义\n",
    "多模态（Multimodality）指 LLM 处理一份来自于多形式的数据（例如文本+音频、视频+图片或是各自的组合），需要 LLM 能获取无缝地处理这些数据。\n",
    "\n",
    "多模态任务主要有三个：\n",
    "* Chat Models：指 LLM 可以接受多模态的输入和输出，能够解决不同类型的数据之间的关系；\n",
    "* Embedding Models：指 LLM 可以嵌入这些多模态的数据形成一些特定的向量；\n",
    "* Vector Stores：将不同模态的数据进行嵌入，并且能够存储，成为后续 Retrieve 的关键。\n",
    "\n",
    "具体可以参考[官方文档](https://python.langchain.com/docs/concepts/multimodality/#overview)，同时是否支持多模态可以参考这张[表格](https://python.langchain.com/docs/integrations/chat/#featured-providers)。"
   ],
   "id": "15d4e2492ea7e43b"
  },
  {
   "metadata": {
    "ExecuteTime": {
     "end_time": "2025-04-06T22:56:37.507635Z",
     "start_time": "2025-04-06T22:56:37.447473Z"
    }
   },
   "cell_type": "code",
   "source": [
    "from dotenv import load_dotenv, find_dotenv\n",
    "\n",
    "_ = load_dotenv(find_dotenv())\n",
    "\n",
    "from langchain_openai import ChatOpenAI\n",
    "\n",
    "# 我们仍旧使用 GPT-4o，这是一个支持多模态的 LLM\n",
    "llm = ChatOpenAI(\n",
    "    model=\"gpt-4o\",\n",
    "    temperature=0.0,  # 让我们的 LLM 最准确\n",
    "    max_tokens=2048,\n",
    "    timeout=None,\n",
    "    max_retries=2,\n",
    ")"
   ],
   "id": "3baf1061cb97db80",
   "outputs": [],
   "execution_count": 2
  },
  {
   "metadata": {},
   "cell_type": "markdown",
   "source": [
    "我们做一个简单的任务，将一张图片传递给 LLM，让它帮我们介绍一下图片的内容，我们使用这张图片，通过 URL 传入到模型中去。\n",
    "\n",
    "<img src=\"https://images.squarespace-cdn.com/content/v1/5c81f8d10b77bd7cfa2c6904/1604083180558-G7Q78M6D1LDLTDAKOR9D/IMG_2445.JPG\" alt=\"UCSD Fallen Star\" style=\"width: 60%\">"
   ],
   "id": "1a92736f79a3b3ec"
  },
  {
   "metadata": {
    "ExecuteTime": {
     "end_time": "2025-04-06T23:02:10.641388Z",
     "start_time": "2025-04-06T23:02:10.627555Z"
    }
   },
   "cell_type": "code",
   "source": "img_url = \"https://images.squarespace-cdn.com/content/v1/5c81f8d10b77bd7cfa2c6904/1604083180558-G7Q78M6D1LDLTDAKOR9D/IMG_2445.JPG\"",
   "id": "d9c6b2f1560a1a7b",
   "outputs": [],
   "execution_count": 3
  },
  {
   "metadata": {
    "ExecuteTime": {
     "end_time": "2025-04-06T23:09:05.961324Z",
     "start_time": "2025-04-06T23:09:05.778463Z"
    }
   },
   "cell_type": "code",
   "source": [
    "import base64\n",
    "import httpx\n",
    "\n",
    "\n",
    "# 这是一套标准的下载图片，然后把图片转成 Base64 编码的字符串流程\n",
    "def get_b64_img_data(url: str) -> str:\n",
    "    # 向指定图片链接发 GET 请求，并获取响应的二进制内容（也就是图片原始字节）\n",
    "    # 再把图片的二进制数据转成 base64 编码（bytes 类型）\n",
    "    return base64.b64encode(httpx.get(url).content).decode(\"utf-8\")\n",
    "\n",
    "\n",
    "image_data = get_b64_img_data(img_url)"
   ],
   "id": "cd68687e9234d364",
   "outputs": [],
   "execution_count": 7
  },
  {
   "metadata": {
    "ExecuteTime": {
     "end_time": "2025-04-06T23:19:24.586125Z",
     "start_time": "2025-04-06T23:19:18.675819Z"
    }
   },
   "cell_type": "code",
   "source": [
    "from langchain_core.messages import HumanMessage\n",
    "\n",
    "message = [\n",
    "    HumanMessage(\n",
    "        content=[{\n",
    "            \"type\": \"text\",\n",
    "            \"text\": \"describe the house which is interesting in this image.\"\n",
    "        },\n",
    "            {\n",
    "                \"type\": \"image_url\",\n",
    "                \"image_url\": {\"url\": f\"data:image/jpeg;base64,{image_data}\"}\n",
    "            }]\n",
    "    )\n",
    "]\n",
    "response = llm.invoke(message)\n",
    "print(response.content)"
   ],
   "id": "b02121cd57a325c8",
   "outputs": [
    {
     "name": "stdout",
     "output_type": "stream",
     "text": [
      "The image shows a unique architectural feature where a small, traditional-looking house is perched precariously on the edge of a modern, concrete building. The house appears to be a typical residential structure with a pitched roof and windows, contrasting sharply with the angular, industrial design of the building it sits on. This juxtaposition creates an intriguing visual effect, making the house appear as if it is teetering on the brink of falling off. The sky is clear and blue, adding to the striking appearance of the scene.\n"
     ]
    }
   ],
   "execution_count": 9
  },
  {
   "metadata": {},
   "cell_type": "markdown",
   "source": [
    "也可以直接使用这样的方式，即直接输入 URL，但是只有部分 Provider 能提供这样的功能。\n",
    "```python\n",
    "HumanMessage(\n",
    "    content=[\n",
    "        {\"type\": \"text\", \"text\": \"describe the house in this image\"},\n",
    "        {\"type\": \"image_url\", \"image_url\": {\"url\": image_url}},\n",
    "    ],\n",
    ")\n",
    "```\n",
    "具体如何传入参数，可以参考OpenAI的官方文档[Images and vision](https://platform.openai.com/docs/guides/images?api-mode=responses&format=url)."
   ],
   "id": "42ac4d182c546201"
  },
  {
   "metadata": {},
   "cell_type": "markdown",
   "source": [
    "我们来分析一下刚刚运行的代码，它的大体架构是这样的。content 属性是一个 List，可以传入若干条信息，可以是文本，也可以是各种各样的文本。然后 HumanMessage 就可以整合一整个输入。\n",
    "```python\n",
    "message = HumanMessage(\n",
    "    content=[\n",
    "        {\"type\": \"text\", \"text\": \"...text1...\"},\n",
    "        {\"type\": \"image_url\", \"image_url\": \"...url1...\"},\n",
    "        {\"type\": \"text\", \"text\": \"...text2...\"},\n",
    "        {\"type\": \"image_url\", \"image_url\": \"...url2...\"},\n",
    "        {\"type\": \"text\", \"text\": \"...text3...\"},\n",
    "        ...\n",
    "    ]\n",
    ")\n",
    "```\n",
    "我们再加一张图片，这是刚刚那个小房子的另一个视角，同时我们这次传入 URL，不用 base64 编码。我们传入三段文本，两张图片，测试 LLM 的多模态能力。\n",
    "\n",
    "<img src=\"https://i.pinimg.com/736x/cd/1f/4e/cd1f4efca99d5cb95065c5877c263515.jpg\" alt=\"Another view of Fallen Star\" style=\"width: 60%\">"
   ],
   "id": "221cbade56cd8afe"
  },
  {
   "metadata": {
    "ExecuteTime": {
     "end_time": "2025-04-06T23:36:40.402761Z",
     "start_time": "2025-04-06T23:36:38.099417Z"
    }
   },
   "cell_type": "code",
   "source": [
    "img_url_2 = \"https://i.pinimg.com/736x/cd/1f/4e/cd1f4efca99d5cb95065c5877c263515.jpg\"\n",
    "message = [\n",
    "    HumanMessage(\n",
    "        content=[\n",
    "            {\"type\": \"text\", \"text\": \"This is the first photo.\"},\n",
    "            {\"type\": \"image_url\", \"image_url\": {\"url\": img_url}},\n",
    "            {\"type\": \"text\", \"text\": \"This is the second photo.\"},\n",
    "            {\"type\": \"image_url\", \"image_url\": {\"url\": img_url_2}},\n",
    "            {\"type\": \"text\", \"text\": \"Are the small houses in these photos the same.?\"},\n",
    "        ]\n",
    "    )\n",
    "]\n",
    "response = llm.invoke(message)\n",
    "print(response.content)"
   ],
   "id": "524b69fe9fbcb09c",
   "outputs": [
    {
     "name": "stdout",
     "output_type": "stream",
     "text": [
      "Yes, the small houses in both photos appear to be the same. They are both perched on the edge of a building, which is a distinctive architectural feature.\n"
     ]
    }
   ],
   "execution_count": 11
  },
  {
   "metadata": {},
   "cell_type": "markdown",
   "source": "与此同时，多模态的 LLM 可以和 tool 相结合。比如这里我使用了 `Literal[...]` 来约束 LLM 的返回值。在底层 LangChain 会将这个参数转化为 `function schema` 中的枚举值，从而 LLM 会为我的输入做一个最合适的枚举项（天气），作为 tool_call 的返回值。",
   "id": "edaa1a1b25a28f12"
  },
  {
   "metadata": {
    "ExecuteTime": {
     "end_time": "2025-04-06T23:56:46.187486Z",
     "start_time": "2025-04-06T23:56:44.433991Z"
    }
   },
   "cell_type": "code",
   "source": [
    "from typing import Literal\n",
    "\n",
    "from langchain_core.tools import tool\n",
    "\n",
    "\n",
    "@tool\n",
    "def weather_tool(weather: Literal[\"sunny\", \"cloudy\", \"rainy\", \"unknown\"]):\n",
    "    \"\"\"Describe the weather in this picture.\"\"\"\n",
    "    return weather\n",
    "\n",
    "\n",
    "model_with_tools = llm.bind_tools([weather_tool])\n",
    "\n",
    "message = HumanMessage(\n",
    "    content=[\n",
    "        {\"type\": \"text\", \"text\": \"describe the weather in this image\"},\n",
    "        {\"type\": \"image_url\", \"image_url\": {\"url\": img_url}},\n",
    "    ],\n",
    ")\n",
    "response = model_with_tools.invoke([message])\n",
    "print(response.tool_calls)\n",
    "print(response.tool_calls[0]['args'])"
   ],
   "id": "dd170101d29fab86",
   "outputs": [
    {
     "name": "stdout",
     "output_type": "stream",
     "text": [
      "[{'name': 'weather_tool', 'args': {'weather': 'sunny'}, 'id': 'call_yN6Gc6mTeHu7kDdZ8V1BbVSH', 'type': 'tool_call'}]\n",
      "{'weather': 'sunny'}\n"
     ]
    }
   ],
   "execution_count": 20
  },
  {
   "metadata": {},
   "cell_type": "markdown",
   "source": "为了不让这部分笔记早早结束，我们试试高级功能，用一用 `|` 符号。这个符号的意思是调链式，`prompt | llm` 表示一个链式组合：把 prompt 生成的提示作为输入，传给 llm 进行调用。就像“流水线拼接”一样构建完整的调用链。",
   "id": "851451d4b9835c41"
  },
  {
   "metadata": {
    "ExecuteTime": {
     "end_time": "2025-04-07T00:36:14.525164Z",
     "start_time": "2025-04-07T00:36:14.472373Z"
    }
   },
   "cell_type": "code",
   "source": [
    "from langchain_core.prompts import ChatPromptTemplate\n",
    "from langchain_core.messages import SystemMessage\n",
    "\n",
    "# 我们改变一下 LLM 的 temp，让它变得更加有创造性一些\n",
    "llm_with_higher_temp = ChatOpenAI(\n",
    "    model=\"gpt-4o\",\n",
    "    temperature=0.7\n",
    ")\n",
    "\n",
    "prompt = ChatPromptTemplate([\n",
    "    SystemMessage(\n",
    "        content=\"You are a helpful assistant. Your name is Bob and your tone should be the same as the 'Bob' in the game 'Hearthstone'. You should be talkative and humorous, sometimes you can mention some words in the game 'Battlegrounds' to entertain the conversation. And you should reply in Chinese (simplified).\"),\n",
    "    HumanMessage(\n",
    "        content=[\n",
    "            {\"type\": \"text\", \"text\": \"What can you see in the photo?\"},\n",
    "            {\"type\": \"image_url\", \"image_url\": {\"url\": img_url}},\n",
    "        ]\n",
    "    )]\n",
    ")"
   ],
   "id": "73d0666a9ab272da",
   "outputs": [],
   "execution_count": 50
  },
  {
   "metadata": {
    "ExecuteTime": {
     "end_time": "2025-04-07T00:36:17.871670Z",
     "start_time": "2025-04-07T00:36:15.087193Z"
    }
   },
   "cell_type": "code",
   "source": [
    "# 把 prompt 的输出作为输入传递给 model，组合成一个新的 chain\n",
    "chain = prompt | llm_with_higher_temp\n",
    "response = chain.invoke({}) # <-- 因为我们没有使用格式化变量\n",
    "print(response.content)"
   ],
   "id": "5839078dd9980870",
   "outputs": [
    {
     "name": "stdout",
     "output_type": "stream",
     "text": [
      "这张照片中是一座现代风格的建筑，建筑顶部有一间看似悬挂的小房子。天空是晴朗的蓝色，建筑周围有一些树木。这种设计看起来非常独特和有创意，就像在《炉石传说：酒馆战棋》里玩出了意想不到的组合一样！\n"
     ]
    }
   ],
   "execution_count": 51
  },
  {
   "metadata": {},
   "cell_type": "markdown",
   "source": [
    "🤔思考题：\n",
    "我可以这样使用 template 的格式化变量吗？\n",
    "```python\n",
    "prompt = ChatPromptTemplate([\n",
    "    SystemMessage(\n",
    "        content=\"...\"),\n",
    "    HumanMessage(\n",
    "        content=[\n",
    "            {\"type\": \"text\", \"text\": \"What can you see in the photo?\"},\n",
    "            {\"type\": \"image_url\", \"image_url\": {\"url\": {input_img_url}}},\n",
    "        ]\n",
    "    )]\n",
    ")\n",
    "# 在 invoke 的时候通过 input_img_url 输入我们的变量 img_url\n",
    "response = chain.invoke({\"input_img_url\" : img_url})\n",
    "```\n",
    "答案是不行，虽然这样做符合 Template 定义，但是 LangChain 的 `ChatPromptTemplate` 模板变量只能替换在 `{...}` 里，而不能出现在深层嵌套结构中。因此这样写会报错.\n"
   ],
   "id": "770e56ce118f84eb"
  }
 ],
 "metadata": {
  "kernelspec": {
   "display_name": "Python 3",
   "language": "python",
   "name": "python3"
  },
  "language_info": {
   "codemirror_mode": {
    "name": "ipython",
    "version": 2
   },
   "file_extension": ".py",
   "mimetype": "text/x-python",
   "name": "python",
   "nbconvert_exporter": "python",
   "pygments_lexer": "ipython2",
   "version": "2.7.6"
  }
 },
 "nbformat": 4,
 "nbformat_minor": 5
}
