{
 "cells": [
  {
   "metadata": {},
   "cell_type": "markdown",
   "source": [
    "ICEL 的全称是 LangChain Expression Language，是 LangChain 0.1.0+ 推出的全新核心架构，它的设计目标是让链（Chain）更像「表达式组合」：模块之间可以像拼积木一样组合，但又能高度并发、异步、可追踪、可部署。。这是一种 LangChain 优化链的做法，在 Runtime 执行。我们经常把 ICEL 创建的 `Runnable` 称作**链（Chain）**。官方文档参考[这里](https://python.langchain.com/docs/concepts/lcel/)。\n",
    "\n",
    "第一点就是 [RunnableSequence](https://python.langchain.com/api_reference/core/runnables/langchain_core.runnables.base.RunnableSequence.html)，这种用法是构建 `Runnable` 序列，其中每个的输出是下一个的输入。\n",
    "\n",
    "`RunnableSequence` 可以直接实例化，或者更常见的是使用 `|` 运算符来实例化，其中左操作数或右操作数（或两者）必须是 `Runnable`。我们写一个简单的例子。\n",
    "\n",
    "或者是各种各样的别的写法：\n",
    "```python\n",
    "chain = RunnableSequence([runnable1, runnable2])\n",
    "chain = runnable1.pipe(runnable2)\n",
    "```"
   ],
   "id": "b9159088a52013bc"
  },
  {
   "metadata": {
    "ExecuteTime": {
     "end_time": "2025-04-08T18:42:41.271737Z",
     "start_time": "2025-04-08T18:42:41.250312Z"
    }
   },
   "cell_type": "code",
   "source": [
    "from langchain_core.runnables import RunnableLambda, RunnableSequence\n",
    "\n",
    "\n",
    "def add_one(x: int) -> int:\n",
    "    \"\"\"Given a variate x, return (x + 1)\"\"\"\n",
    "    return x + 1\n",
    "\n",
    "\n",
    "def mul_two(x: int) -> int:\n",
    "    \"\"\"Given a variate x, return (x * 2)\"\"\"\n",
    "    return x * 2\n",
    "\n",
    "\n",
    "def mul_three(x: int) -> int:\n",
    "    \"\"\"Given a variate x, return (x * 3)\"\"\"\n",
    "    return x * 3\n",
    "\n",
    "\n",
    "def mul_four(x: int) -> int:\n",
    "    \"\"\"Given a variate x, return (x * 4)\"\"\"\n",
    "    return x * 4\n",
    "\n",
    "\n",
    "runnable_op_1 = RunnableLambda(add_one)\n",
    "runnable_op_2 = RunnableLambda(mul_two)\n",
    "runnable_op_3 = RunnableLambda(mul_three)\n",
    "runnable_op_4 = RunnableLambda(mul_four)\n",
    "\n",
    "# 可以看到源代码，包含三个可执行步骤\n",
    "sequence = RunnableSequence(first=runnable_op_1, last=runnable_op_2)\n",
    "print(\"Given 1, add_one then mul_two:\", sequence.invoke(1))\n",
    "print(\"Given [1, 2, 3], add_one then mul_two:\", await sequence.abatch([1, 2, 3]))\n",
    "\n",
    "print(\"\\n===================================\\n\")\n",
    "# 我们测试换一个顺序，可以看见结果就会不一样\n",
    "sequence = RunnableSequence(first=runnable_op_2, last=runnable_op_1)\n",
    "print(\"Given 1, mul_two then add_one:\", sequence.invoke(1))\n",
    "\n",
    "print(\"\\n===================================\\n\")\n",
    "# 我们使用重载之后的 | 运算符\n",
    "sequence = runnable_op_1 | runnable_op_2\n",
    "print(\"Given 1, add_one then mul_two:\", sequence.invoke(1))\n",
    "\n",
    "print(\"\\n===================================\\n\")\n",
    "# 试一试超出三个运算，我们来到四个运算\n",
    "sequence = runnable_op_1 | runnable_op_2 | runnable_op_3 | runnable_op_4\n",
    "print(\"Given 1, add_one, mul_two, mul_three then mul_four:\", sequence.invoke(1))"
   ],
   "id": "c6f80706adf00a09",
   "outputs": [
    {
     "name": "stdout",
     "output_type": "stream",
     "text": [
      "Given 1, add_one then mul_two: 4\n",
      "Given [1, 2, 3], add_one then mul_two: [4, 6, 8]\n",
      "\n",
      "===================================\n",
      "\n",
      "Given 1, mul_two then add_one: 3\n",
      "\n",
      "===================================\n",
      "\n",
      "Given 1, add_one then mul_two: 4\n",
      "\n",
      "===================================\n",
      "\n",
      "Given 1, add_one, mul_two, mul_three then mul_four: 48\n"
     ]
    }
   ],
   "execution_count": 13
  },
  {
   "metadata": {},
   "cell_type": "markdown",
   "source": [
    "1. 细节问题：其实按道理我们得包装我们的函数，使用 `RunnableLambda(some_func)`，但是在底层有一些广播的优化，可以自动将我们的函数转换成 `Runnable`。但是必须小心 lambda 函数不是一个 `RunnableLambda`对象，它只是一个函数。\n",
    "\n",
    "2. 源码解析：可以在 Chain 中叠加三层以上的运算吗？\n",
    "```python\n",
    "def __init__(\n",
    "        self,\n",
    "        *steps: RunnableLike,\n",
    "        name: Optional[str] = None,\n",
    "        first: Optional[Runnable[Any, Any]] = None,\n",
    "        middle: Optional[list[Runnable[Any, Any]]] = None,\n",
    "        last: Optional[Runnable[Any, Any]] = None,\n",
    "    ) -> None:\n",
    "        ...\n",
    "```\n",
    "因为存在 `Optional`，所以是可以嵌套的，如果超出了 first, middle, last，那就在此基础上嵌套再一层。然后再程序中递归运行。\n",
    "\n",
    "接下来，我们尝试结合 LLM 去使用 chain。"
   ],
   "id": "35e79a96b87e8b2b"
  },
  {
   "metadata": {
    "ExecuteTime": {
     "end_time": "2025-04-08T18:55:40.441292Z",
     "start_time": "2025-04-08T18:55:40.396612Z"
    }
   },
   "cell_type": "code",
   "source": [
    "from dotenv import load_dotenv, find_dotenv\n",
    "\n",
    "_ = load_dotenv(find_dotenv())\n",
    "\n",
    "from langchain_openai import ChatOpenAI\n",
    "\n",
    "llm = ChatOpenAI(\n",
    "    model=\"gpt-4o\",\n",
    "    temperature=0.7,  # 让我们的 LLM 最准确\n",
    "    max_tokens=2048,\n",
    "    timeout=None,\n",
    "    max_retries=2,\n",
    ")"
   ],
   "id": "4f9a1d888b3e3b39",
   "outputs": [],
   "execution_count": 28
  },
  {
   "metadata": {
    "ExecuteTime": {
     "end_time": "2025-04-08T18:59:10.788619Z",
     "start_time": "2025-04-08T18:59:08.160043Z"
    }
   },
   "cell_type": "code",
   "source": [
    "from langchain_core.output_parsers.json import SimpleJsonOutputParser\n",
    "from langchain_core.prompts import PromptTemplate\n",
    "\n",
    "prompt = PromptTemplate(\n",
    "    template='In JSON format, I will give you a sentence in English: {sentence} and please translate in a Cat, Dog, Wolf, Lion, Duck and Pig language.')\n",
    "\n",
    "chain = prompt | llm | SimpleJsonOutputParser()\n",
    "\n",
    "chain.invoke({'sentence': 'Hello, world!'})  # noqa: T201"
   ],
   "id": "113c380496629eb6",
   "outputs": [
    {
     "data": {
      "text/plain": [
       "{'Cat': 'Meow, purr!',\n",
       " 'Dog': 'Woof, bark!',\n",
       " 'Wolf': 'Howl, growl!',\n",
       " 'Lion': 'Roar, grrr!',\n",
       " 'Duck': 'Quack, quack!',\n",
       " 'Pig': 'Oink, snort!'}"
      ]
     },
     "execution_count": 30,
     "metadata": {},
     "output_type": "execute_result"
    }
   ],
   "execution_count": 30
  },
  {
   "metadata": {},
   "cell_type": "markdown",
   "source": [
    "接下来我们介绍 `RunnableParallel`，这是一个 composition primitive，允许同时运行多个可运行对象，并为每个 `Runnable` 提供相同的输入。在传统链中，如果你有多个工具要调用，是顺序执行的（一个一个来），效率低。但是在 LangChain 中允许你并行执行多个子链，大幅减少响应延迟（latency），可参考[官方文档](https://python.langchain.com/api_reference/core/runnables/langchain_core.runnables.base.RunnableParallel.html#runnableparallel)。以下例子仅作参考：\n",
    "\n",
    "```python\n",
    "from langchain_core.runnables import RunnableParallel\n",
    "\n",
    "google_search_chain = prompt | llm | \"GOOGLE SEARCH\"\n",
    "bing_search_chain = prompt | llm | \"BING SEARCH\"\n",
    "\n",
    "parallel_chain = RunnableParallel({\n",
    "    \"google\": google_search_chain,\n",
    "    \"bing\": bing_search_chain,\n",
    "    # ...\n",
    "})\n",
    "```"
   ],
   "id": "e569aaa9ccc8b6ab"
  },
  {
   "metadata": {
    "ExecuteTime": {
     "end_time": "2025-04-08T19:12:07.797355Z",
     "start_time": "2025-04-08T19:12:05.880261Z"
    }
   },
   "cell_type": "code",
   "source": [
    "from langchain_core.prompts import ChatPromptTemplate\n",
    "from langchain_core.runnables import RunnableParallel\n",
    "\n",
    "joke_chain = (\n",
    "        ChatPromptTemplate.from_template(\"tell me a joke about {topic}\")\n",
    "        | llm\n",
    ")\n",
    "poem_chain = (\n",
    "        ChatPromptTemplate.from_template(\"write a 4-line poem about {topic}\")\n",
    "        | llm\n",
    ")\n",
    "\n",
    "runnable = RunnableParallel(joke=joke_chain, poem=poem_chain)\n",
    "\n",
    "response = runnable.invoke({\"topic\": \"tiger\"})\n",
    "print(\"Joke:\", response['joke'].content)\n",
    "print(\"Poem:\", response['poem'].content)\n",
    "  # noqa: T201"
   ],
   "id": "2ed436fa8274eee",
   "outputs": [
    {
     "name": "stdout",
     "output_type": "stream",
     "text": [
      "Joke: Sure, here's a tiger joke for you:\n",
      "\n",
      "Why don't tigers like fast food?\n",
      "\n",
      "Because they can't catch it!\n",
      "Poem: In the jungle's heart, a fierce king roams,  \n",
      "With eyes like fire and silent, stealthy tones.  \n",
      "Striped with power, grace in every stride,  \n",
      "In the shadowed forest, the tiger abides.\n"
     ]
    }
   ],
   "execution_count": 37
  }
 ],
 "metadata": {
  "kernelspec": {
   "display_name": "Python 3",
   "language": "python",
   "name": "python3"
  },
  "language_info": {
   "codemirror_mode": {
    "name": "ipython",
    "version": 2
   },
   "file_extension": ".py",
   "mimetype": "text/x-python",
   "name": "python",
   "nbconvert_exporter": "python",
   "pygments_lexer": "ipython2",
   "version": "2.7.6"
  }
 },
 "nbformat": 4,
 "nbformat_minor": 5
}
