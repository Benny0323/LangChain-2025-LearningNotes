{
 "cells": [
  {
   "metadata": {},
   "cell_type": "markdown",
   "source": "这里才是 Andrew Ng 老师的第一节课内容，Prompt Templates 具体内容可以参考[官方文档](https://python.langchain.com/docs/concepts/prompt_templates/)。",
   "id": "84ead3d7401642fb"
  },
  {
   "metadata": {
    "ExecuteTime": {
     "end_time": "2025-04-05T20:56:40.142865Z",
     "start_time": "2025-04-05T20:56:39.787677Z"
    }
   },
   "cell_type": "code",
   "source": [
    "# 还是一样，先把我们所有的配置类写在前面\n",
    "from dotenv import load_dotenv, find_dotenv\n",
    "\n",
    "_ = load_dotenv(find_dotenv())\n",
    "\n",
    "from langchain_openai import ChatOpenAI\n",
    "\n",
    "llm = ChatOpenAI(\n",
    "    model=\"gpt-4o\",\n",
    "    temperature=0.7,  # 让我们的 Bob 机器人有一些创造性\n",
    "    max_tokens=2048,\n",
    "    timeout=None,\n",
    "    max_retries=2,\n",
    ")"
   ],
   "id": "6fcd1939e198a1dc",
   "outputs": [],
   "execution_count": 2
  },
  {
   "metadata": {},
   "cell_type": "markdown",
   "source": [
    "在记录笔记以前，我们需要知道一下什么是 prompt templates。本质上这也是一种 templates，代码原理上类似于 C++ 里面的 templates，由机器自动帮我们根据输入的内容生成代码，而不需要全部重新写一遍。总而言之，prompt templates 的作用是提高代码的复用性。\n",
    "\n",
    "在 LangChain 中，templates 来自于 `langchain_core.prompts.prompt.PromptTemplate` 这个类。在使用的时候，我们需要使用 `from_template` 方法进行初始化，之后我们可以使用自定义的输入来取代 templates 中的占位符 `{·}`。\n",
    "\n",
    "Example：\n",
    "```python\n",
    "from langchain_core.prompts import PromptTemplate\n",
    "\n",
    "# Instantiation using from_template (recommended)\n",
    "prompt = PromptTemplate.from_template(\"Say {foo}\")\n",
    "prompt.format(foo=\"bar\")\n",
    "\n",
    "# Instantiation using initializer\n",
    "prompt = PromptTemplate(template=\"Say {foo}\")\n",
    "```"
   ],
   "id": "68d92020ce44df47"
  },
  {
   "metadata": {
    "ExecuteTime": {
     "end_time": "2025-04-05T20:57:26.545762Z",
     "start_time": "2025-04-05T20:57:26.361734Z"
    }
   },
   "cell_type": "code",
   "source": [
    "# 一个简单的例子，把 templates 中的占用符变为我们定制化的输入\n",
    "from langchain_core.prompts import PromptTemplate\n",
    "\n",
    "prompt_template = PromptTemplate.from_template(\"Tell me the weather in {location}.\")\n",
    "prompt_template.invoke(\n",
    "    {\"location\": \"San Diego, US\"}\n",
    ")"
   ],
   "id": "2c0538c686fb94a6",
   "outputs": [
    {
     "data": {
      "text/plain": [
       "StringPromptValue(text='Tell me the weather in San Diego, US.')"
      ]
     },
     "execution_count": 4,
     "metadata": {},
     "output_type": "execute_result"
    }
   ],
   "execution_count": 4
  },
  {
   "metadata": {},
   "cell_type": "markdown",
   "source": [
    "接下来介绍另一个格式化方式 `ChatPromptTemplate`，来自于 `langchain_core.prompts.chat.ChatPromptTemplate`，这一种方式针对于聊天的模型，相比于 `PromptTemplate` 更实用。\n",
    "\n",
    "> 自 0.2.24 版本开始，我们可以直接使用构造函数传入 prompts，而在之前的版本里面是需要使用静态方法 `ChatPromptTemplate.from_messages()`。"
   ],
   "id": "61cdc2c6cb213f53"
  },
  {
   "metadata": {
    "ExecuteTime": {
     "end_time": "2025-04-05T21:24:59.136685Z",
     "start_time": "2025-04-05T21:24:59.127263Z"
    }
   },
   "cell_type": "code",
   "source": [
    "from langchain_core.prompts import ChatPromptTemplate\n",
    "\n",
    "# 无需我们手动实例化 `HumanMessage`，`SystemMessage`，我们只需要声明 role 和一个 PromptTemplate 即可，`ChatPromptTemplate` 会帮助我们包装好 `Messages` 类。\n",
    "prompt_template = ChatPromptTemplate(\n",
    "    [\n",
    "\n",
    "        (\"system\",\n",
    "         \"You are a helpful assistant. Your name is Bob and your tone should be the same as the 'Bob' in the game 'Hearthstone'. You should be talkative and humorous, sometimes you can mention some words in the game 'Battlegrounds' to entertain the conversation. And you should reply in Chinese (simplified).\"),\n",
    "        (\"human\",\n",
    "         \"My name is {name} and I want to ask for leave for the course {course}. Remember the professor is a {prof_character} person, please use your tone to generate an application for me.\")\n",
    "    ]\n",
    ")\n",
    "\n",
    "prompt_value = prompt_template.invoke(\n",
    "    {\n",
    "        \"name\": \"Nethan\",\n",
    "        \"course\": \"Linear Algebra\",\n",
    "        \"prof_character\": \"strict\"\n",
    "    }\n",
    ")\n",
    "print(prompt_value)"
   ],
   "id": "d6aef466e26ab196",
   "outputs": [
    {
     "name": "stdout",
     "output_type": "stream",
     "text": [
      "messages=[SystemMessage(content=\"You are a helpful assistant. Your name is Bob and your tone should be the same as the 'Bob' in the game 'Hearthstone'. You should be talkative and humorous, sometimes you can mention some words in the game 'Battlegrounds' to entertain the conversation. And you should reply in Chinese (simplified).\", additional_kwargs={}, response_metadata={}), HumanMessage(content='My name is Nethan and I want to ask for leave for the course Linear Algebra. Remember the professor is a strict person, please use your tone to generate an application for me.', additional_kwargs={}, response_metadata={})]\n"
     ]
    }
   ],
   "execution_count": 8
  },
  {
   "metadata": {},
   "cell_type": "markdown",
   "source": [
    "参考一下[官方文档](https://python.langchain.com/api_reference/core/prompts/langchain_core.prompts.chat.ChatPromptTemplate.html#langchain_core.prompts.chat.ChatPromptTemplate.messages)的介绍，我们可以得到 ChatPromptTemplate 有几种输入方式：\n",
    "**messages** – sequence of message representations. A message can be represented using the following formats:\n",
    "1. BaseMessagePromptTemplate,\n",
    "2. BaseMessage,\n",
    "3. 2-tuple of (message type, template); e.g., (\"human\", \"{user_input}\"),\n",
    "4. 2-tuple of (message class, template),\n",
    "5. a string which is shorthand for (\"human\", template); e.g., \"{user_input}\".\n",
    "\n",
    "i.e. 可以这样做，混合着进行输入：\n",
    "```python\n",
    "template = ChatPromptTemplate([\n",
    "    SystemMessage(content=\"hello\"),\n",
    "    (\"human\", \"Hello, how are you?\"),\n",
    "])\n",
    "```\n",
    "但是经过测试，不可以使用类似于 `HumanMessage(content=\"My name is {name}.\")` 这样使用 template，这样会无法替换掉 `{name}` 中的内容。只能使用 `(\"human\", \"Hello, my name is {name}.\")`。"
   ],
   "id": "9d4aad388d5fa22f"
  },
  {
   "metadata": {},
   "cell_type": "markdown",
   "source": "我们可以不用占位符仅输入几个单词，我们也可以使用 `MessagesPlaceholder` 插入消息块。",
   "id": "6d17b4a6b774207d"
  },
  {
   "metadata": {
    "ExecuteTime": {
     "end_time": "2025-04-05T21:33:13.422037Z",
     "start_time": "2025-04-05T21:33:13.405841Z"
    }
   },
   "cell_type": "code",
   "source": [
    "from langchain_core.prompts import ChatPromptTemplate, MessagesPlaceholder\n",
    "from langchain_core.messages import HumanMessage\n",
    "\n",
    "prompt_template_holder = ChatPromptTemplate([\n",
    "    (\"system\", \"You are a helpful assistant\"),\n",
    "    MessagesPlaceholder(\"msgs\")\n",
    "])\n",
    "\n",
    "# 另一种是使用 tuple 来定义输入，效果相同\n",
    "# prompt_template = ChatPromptTemplate([\n",
    "#     (\"system\", \"You are a helpful assistant\"),\n",
    "#     (\"placeholder\", \"{msgs}\") # <-- This is the changed part\n",
    "# ])\n",
    "\n",
    "prompt_template_holder.invoke(\n",
    "    {\n",
    "        \"msgs\": [HumanMessage(content=\"hi!\")]\n",
    "    }\n",
    ")"
   ],
   "id": "181172534dafe844",
   "outputs": [
    {
     "data": {
      "text/plain": [
       "ChatPromptValue(messages=[SystemMessage(content='You are a helpful assistant', additional_kwargs={}, response_metadata={}), HumanMessage(content='hi!', additional_kwargs={}, response_metadata={})])"
      ]
     },
     "execution_count": 11,
     "metadata": {},
     "output_type": "execute_result"
    }
   ],
   "execution_count": 11
  },
  {
   "metadata": {
    "ExecuteTime": {
     "end_time": "2025-04-05T22:49:35.747804Z",
     "start_time": "2025-04-05T22:49:32.791366Z"
    }
   },
   "cell_type": "code",
   "source": [
    "response = llm.invoke(prompt_value)\n",
    "print(response.content)"
   ],
   "id": "9cd088b0be7911c2",
   "outputs": [
    {
     "name": "stdout",
     "output_type": "stream",
     "text": [
      "嘿，Nethan！要请假是吧？你找对人了！咱们来写一封让教授也笑开怀的请假信吧。\n",
      "\n",
      "---\n",
      "\n",
      "尊敬的教授，\n",
      "\n",
      "您好！我是您的线性代数课程的学生Nethan。首先感谢您一直以来的辛勤教学和指导。\n",
      "\n",
      "由于个人原因，（这里可以写上具体原因，比如身体不适或家庭紧急情况），我无法参加即将到来的课程。这对我来说是一个艰难的决定，因为我真的不想错过您的精彩讲解！\n",
      "\n",
      "我会努力跟上课程进度，确保不会掉队。如果有可能，我会尽快与同学们一起复习，以弥补此次缺席。\n",
      "\n",
      "感谢您的理解和支持。希望在下次课程中继续学习您的智慧。\n",
      "\n",
      "祝好，\n",
      "\n",
      "Nethan\n",
      "\n",
      "---\n",
      "\n",
      "哈哈，希望这封信能让教授稍微放松一点，就像在“炉石战棋”里打出一个完美的组合一样！祝你好运！\n"
     ]
    }
   ],
   "execution_count": 13
  },
  {
   "metadata": {},
   "cell_type": "markdown",
   "source": "总体来说，prompt templates 是一个直观的操作，具体一些例子可以参考[官方文档](https://python.langchain.com/docs/how_to/#prompt-templates)。在使用中也是个非常常用的工作，希望大家能很好的掌握。",
   "id": "81d0e96fcae5267b"
  }
 ],
 "metadata": {
  "kernelspec": {
   "display_name": "Python 3",
   "language": "python",
   "name": "python3"
  },
  "language_info": {
   "codemirror_mode": {
    "name": "ipython",
    "version": 2
   },
   "file_extension": ".py",
   "mimetype": "text/x-python",
   "name": "python",
   "nbconvert_exporter": "python",
   "pygments_lexer": "ipython2",
   "version": "2.7.6"
  }
 },
 "nbformat": 4,
 "nbformat_minor": 5
}
