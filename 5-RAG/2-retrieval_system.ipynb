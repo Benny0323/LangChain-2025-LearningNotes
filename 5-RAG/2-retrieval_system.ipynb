{
 "cells": [
  {
   "cell_type": "code",
   "id": "initial_id",
   "metadata": {
    "collapsed": true,
    "ExecuteTime": {
     "end_time": "2025-04-08T22:29:04.381655Z",
     "start_time": "2025-04-08T22:29:03.608022Z"
    }
   },
   "source": [
    "from dotenv import load_dotenv, find_dotenv\n",
    "\n",
    "_ = load_dotenv(find_dotenv())\n",
    "\n",
    "from langchain_openai import ChatOpenAI\n",
    "\n",
    "# 我们仍旧使用 GPT-4o，这是一个支持多模态的 LLM\n",
    "llm = ChatOpenAI(\n",
    "    model=\"gpt-4o\",\n",
    "    temperature=0.0,  # 让我们的 LLM 最准确\n",
    "    max_tokens=2048,\n",
    "    timeout=None,\n",
    "    max_retries=2,\n",
    ")"
   ],
   "outputs": [],
   "execution_count": 1
  },
  {
   "metadata": {},
   "cell_type": "markdown",
   "source": [
    "我们之前学习过了语义搜索和关键词搜索，这两者都是基于原始数据（非结构化文本）。因为本身就没有一种良好的搜索算法去进行相似度计算，因此 LLM 在这件事情上是工作良好的。但是如果我们面对的是数据库之类的搜索，由于本身数据就是带有结构化信息，成熟的 SQL 可以做到100%精确的查找，此时我们 LLM 反倒不能因为 100% 的确定性而不适用。\n",
    "\n",
    "![information retrieval](https://python.langchain.com/assets/images/retrieval_concept-2bcff1b2518f194b34eaf472ac748ffa.png)\n",
    "\n",
    "因此我们思考一下，能否让 LLM 为我们生成 SQL 代码，这样 LLM 可以理解我们的查找要求，并且生成一份显性的查询语句提供我们搜索，这样能做到完全的透明，并且很容易在 LLM 生成的 SQL 上面进行调整，省去从头构建 SQL 的麻烦。"
   ],
   "id": "873bbf604e568d03"
  },
  {
   "metadata": {},
   "cell_type": "markdown",
   "source": [
    "尽管用户通常更喜欢使用自然语言与检索系统交互（比如跟 LLM 说一声想要什么数据，LLM 就能理解并帮你取来），但这些系统可能需要特定的查询语法或受益于某些关键字。[查询分析](https://python.langchain.com/docs/concepts/retrieval/#query-analysis)充当原始用户输入和优化搜索查询之间的桥梁。查询分析的一些常见应用包括：\n",
    "\n",
    "* 查询重写：可以重写或扩展查询以改进语义或词汇搜索。以下是在非结构化数据检索中使用模型进行查询分析的一些主要好处：\n",
    "    * 查询澄清：模型可以重新表述模棱两可或措辞不当的查询，以便更加清晰；\n",
    "    * 语义理解：它们可以捕捉查询背后的意图，超越文字关键字匹配；\n",
    "    * 查询扩展：模型可以生成相关的术语或概念以扩大搜索范围；\n",
    "    * 复杂查询处理：他们可以将多部分问题分解为更简单的子查询。\n",
    "* 查询构建：搜索索引可能需要结构化查询（例如数据库的 SQL）。\n"
   ],
   "id": "1971a644169300d1"
  },
  {
   "metadata": {
    "ExecuteTime": {
     "end_time": "2025-04-08T22:38:55.592280Z",
     "start_time": "2025-04-08T22:38:51.078407Z"
    }
   },
   "cell_type": "code",
   "source": [
    "# 以下是查询重写中的查询分解步骤\n",
    "from typing import List\n",
    "\n",
    "from pydantic import BaseModel, Field\n",
    "from langchain_core.messages import SystemMessage, HumanMessage\n",
    "\n",
    "# Define a pydantic model to enforce the output structure\n",
    "class Questions(BaseModel):\n",
    "    questions: List[str] = Field(\n",
    "        description=\"A list of sub-questions related to the input query.\"\n",
    "    )\n",
    "\n",
    "# Create an instance of the model and enforce the output structure\n",
    "structured_model = llm.with_structured_output(Questions)\n",
    "\n",
    "# Define the system prompt\n",
    "system = \"\"\"You are a helpful assistant that generates multiple sub-questions related to an input question. \\n\n",
    "The goal is to break down the input into a set of sub-problems / sub-questions that can be answers in isolation. \\n\"\"\"\n",
    "\n",
    "# Pass the question to the model\n",
    "question = \"\"\"What are the main components of an LLM-powered autonomous agent system?\"\"\"\n",
    "questions = structured_model.invoke(\n",
    "    [SystemMessage(content=system)]+[HumanMessage(content=question)]\n",
    ")"
   ],
   "id": "fea5f14f0e5cf276",
   "outputs": [],
   "execution_count": 2
  },
  {
   "metadata": {
    "ExecuteTime": {
     "end_time": "2025-04-08T22:44:12.375901Z",
     "start_time": "2025-04-08T22:44:12.368671Z"
    }
   },
   "cell_type": "code",
   "source": [
    "for index, question in enumerate(questions.questions):\n",
    "    print(f\"Step {index + 1}: {question}\")"
   ],
   "id": "1164861fec6613fc",
   "outputs": [
    {
     "name": "stdout",
     "output_type": "stream",
     "text": [
      "Step 1: What is an LLM and how does it function within an autonomous agent system?\n",
      "Step 2: What are the key components of an autonomous agent system?\n",
      "Step 3: How does an LLM interact with other components in an autonomous agent system?\n",
      "Step 4: What role does data play in the functioning of an LLM-powered autonomous agent system?\n",
      "Step 5: How is decision-making handled in an LLM-powered autonomous agent system?\n",
      "Step 6: What are the input and output mechanisms for an LLM in an autonomous agent system?\n",
      "Step 7: How is the performance of an LLM-powered autonomous agent system evaluated?\n",
      "Step 8: What are the challenges in integrating LLMs into autonomous agent systems?\n",
      "Step 9: What are some examples of LLM-powered autonomous agent systems in use today?\n"
     ]
    }
   ],
   "execution_count": 15
  },
  {
   "metadata": {},
   "cell_type": "markdown",
   "source": [
    "可以发现，对于一个这样的问题“What are the main components of an LLM-powered autonomous agent system?”，LLM 可以自己向自己提问，逐步分解这个问题直到把所有的要点分析出来。超越关键字进行联想和搜索，并尝试给于更加合理且详尽的解释。\n",
    "\n",
    "第二点也就是我们的[查询语句构建](https://python.langchain.com/docs/concepts/retrieval/#query-construction)，这一部分已经有很多团队在做，比如[将自然语言转换为关系数据库的 SQL](https://paperswithcode.com/task/text-to-sql)、[将自然语言转换为图形数据库的密码](https://neo4j.com/labs/neodash/2.4/user-guide/extensions/natural-language-queries/)，可以去参考网站上面的模型内容。\n",
    "\n",
    "> 例如 Text-to-SQL: Text-to-SQL is a task in natural language processing (NLP) where the goal is to automatically generate SQL queries from natural language text. The task involves converting the text input into a structured representation and then using this representation to generate a semantically correct SQL query that can be executed on a database.\n",
    "\n",
    "这其中也不乏一些技巧，比如 Self-query，一种技术将 LLM 将用户输入转换为两部分：(1) 一个用于语义查找的字符串，(2) 一个用于与之配合的元数据过滤器。这很有用，因为问题通常与文档的元数据有关（而不是内容本身）。示例代码如下：\n",
    "\n",
    "```python\n",
    "metadata_field_info = schema_for_metadata\n",
    "document_content_description = \"Brief summary of an exam.\"\n",
    "retriever = SelfQueryRetriever.from_llm(\n",
    "    llm,\n",
    "    vectorstore,\n",
    "    document_content_description,\n",
    "    metadata_field_info,\n",
    ")\n",
    "```"
   ],
   "id": "708ef3af5eee3fda"
  },
  {
   "metadata": {},
   "cell_type": "code",
   "outputs": [],
   "execution_count": null,
   "source": "",
   "id": "b32b14903aec02bd"
  }
 ],
 "metadata": {
  "kernelspec": {
   "display_name": "Python 3",
   "language": "python",
   "name": "python3"
  },
  "language_info": {
   "codemirror_mode": {
    "name": "ipython",
    "version": 2
   },
   "file_extension": ".py",
   "mimetype": "text/x-python",
   "name": "python",
   "nbconvert_exporter": "python",
   "pygments_lexer": "ipython2",
   "version": "2.7.6"
  }
 },
 "nbformat": 4,
 "nbformat_minor": 5
}
