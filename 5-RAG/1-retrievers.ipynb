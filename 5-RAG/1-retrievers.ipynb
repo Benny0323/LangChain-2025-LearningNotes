{
 "cells": [
  {
   "metadata": {},
   "cell_type": "markdown",
   "source": [
    "这一部分的内容紧接着上一部分多模态部分的 vector store。随着 LLM 的普及，检索系统已成为 AI 应用（例如RAG）的重要组成部分。由于其重要性和可变性，LangChain 提供了一个统一的接口来与不同类型的检索系统交互。\n",
    "\n",
    "LangChain 的 retriever 接口很简单：\n",
    "* 输入需要查找的 query 字符串\n",
    "* 返回文档 list（以 `langchain_core.documents.base.Document` 格式）\n",
    "\n",
    "![Retriever Process](https://python.langchain.com/assets/images/retriever_concept-1093f15a8f63ddb90bd23decbd249ea5.png)"
   ],
   "id": "a44dd1709ab43f46"
  },
  {
   "metadata": {
    "ExecuteTime": {
     "end_time": "2025-04-08T20:55:17.742604Z",
     "start_time": "2025-04-08T20:55:16.944450Z"
    }
   },
   "cell_type": "code",
   "source": [
    "from dotenv import load_dotenv, find_dotenv\n",
    "\n",
    "_ = load_dotenv(find_dotenv())\n",
    "\n",
    "from langchain_openai import ChatOpenAI\n",
    "\n",
    "# 我们仍旧使用 GPT-4o，这是一个支持多模态的 LLM\n",
    "llm = ChatOpenAI(\n",
    "    model=\"gpt-4o\",\n",
    "    temperature=0.0,  # 让我们的 LLM 最准确\n",
    "    max_tokens=2048,\n",
    "    timeout=None,\n",
    "    max_retries=2,\n",
    ")"
   ],
   "id": "cf31f0d664f54954",
   "outputs": [],
   "execution_count": 1
  },
  {
   "metadata": {},
   "cell_type": "markdown",
   "source": [
    "让我们来自定义一个 `Retriever`，需要扩展该类 `BaseRetriever` 并实现以下方法：\n",
    "\n",
    "* `_get_relevant_documents`：获取与查询相关的文档；\n",
    "* `_aget_relevant_documents`：实现以提供异步本机支持。\n",
    "\n",
    "> 通过继承 `BaseRetriever`，Retriever 将自动成为 LangChain `Runnable`，并获得Runnable开箱即用的标准功能。\n",
    "\n",
    "🤔 实际上 `Retriever` 的效果与 `vector store` 的搜索完全不同，因为不需要需要LLM进行嵌入。\n",
    "* 嵌入式检索（semantic search）\n",
    "> 输入：query → 嵌入器 → 向量\n",
    ">\n",
    "> 库：文档都预先嵌入成向量\n",
    ">\n",
    "> 检索：用向量距离（如余弦相似度）找到语义最接近的内容\n",
    "\n",
    "因此，搜索必须用 OpenAIEmbeddings / HuggingFaceEmbeddings 等模型。\n",
    "\n",
    "* 关键词匹配检索（string-based）\n",
    "> 输入：query → 作为字符串 → 查找包含该词的文档\n",
    ">\n",
    "> 原理：简单的 in、.count()、正则匹配、BM25（稍高级）\n",
    ">\n",
    "> 不用任何向量模型、也不需要预处理，只需保留原始文本即可\n",
    "\n",
    "我们实现的 `KeywordRetriever` 的意义在于：它简单、快速、可解释、资源需求低、在某些场景下反而更有效，尤其在不适合语义检索或部署受限的场景。有些时候我们的需求就是从 wikipedia 上面搜索 Relativity，此时只要匹配关键词即可，依赖语义搜索：\n",
    "1. 会匹配许多狭义 Relativity 的内容，但是我们只有要广义的；\n",
    "2. 我们明确知道我们查什么，就不需要计算机理解我们的语义，只需要精确的匹配搜索即可；\n",
    "3. 语义、关键词搜索这两者并不冲突，结合起来使用是最好的。"
   ],
   "id": "c7479ea2e6f44de9"
  },
  {
   "metadata": {
    "ExecuteTime": {
     "end_time": "2025-04-08T21:26:41.407469Z",
     "start_time": "2025-04-08T21:26:41.392890Z"
    }
   },
   "cell_type": "code",
   "source": [
    "from typing import List\n",
    "\n",
    "from langchain_core.callbacks import CallbackManagerForRetrieverRun\n",
    "from langchain_core.documents import Document\n",
    "from langchain_core.retrievers import BaseRetriever\n",
    "\n",
    "\n",
    "class KeywordRetriever(BaseRetriever):\n",
    "    \"\"\"A keyword retriever that contains the top k documents that contain the user query.\n",
    "\n",
    "    This retriever only implements the sync method _get_relevant_documents.\n",
    "\n",
    "    If the retriever were to involve file access or network access, it could benefit\n",
    "    from a native async implementation of `_aget_relevant_documents`.\n",
    "\n",
    "    As usual, with Runnables, there's a default async implementation that's provided\n",
    "    that delegates to the sync implementation running on another thread.\n",
    "    \"\"\"\n",
    "\n",
    "    documents: List[Document]\n",
    "    \"\"\"List of documents to retrieve from.\"\"\"\n",
    "    k: int\n",
    "    \"\"\"Number of top results to return\"\"\"\n",
    "\n",
    "    def _get_relevant_documents(\n",
    "            self, query: str, *, run_manager: CallbackManagerForRetrieverRun\n",
    "    ) -> List[Document]:\n",
    "        \"\"\"Sync implementations for retriever.\"\"\"\n",
    "        matching_documents = []\n",
    "        for document in documents:\n",
    "            if len(matching_documents) > self.k:\n",
    "                return matching_documents\n",
    "\n",
    "            if query.lower() in document.page_content.lower():\n",
    "                matching_documents.append(document)\n",
    "        return matching_documents"
   ],
   "id": "9cfabb7cfe8b1f4a",
   "outputs": [],
   "execution_count": 6
  },
  {
   "metadata": {},
   "cell_type": "markdown",
   "source": [
    "代码中最重要的就是这部分，实际上这就是一个检索操作\n",
    "```python\n",
    "for doc in documents:\n",
    "    if query in doc.page_content:\n",
    "        return doc\n",
    "```"
   ],
   "id": "c01b7a030eb914e4"
  },
  {
   "metadata": {
    "ExecuteTime": {
     "end_time": "2025-04-08T21:26:42.513876Z",
     "start_time": "2025-04-08T21:26:42.509229Z"
    }
   },
   "cell_type": "code",
   "source": [
    "documents = [\n",
    "    Document(\n",
    "        page_content=\"Dogs are great companions, known for their loyalty and friendliness.\",\n",
    "        metadata={\"type\": \"dog\", \"trait\": \"loyalty\"},\n",
    "    ),\n",
    "    Document(\n",
    "        page_content=\"Cats are independent pets that often enjoy their own space.\",\n",
    "        metadata={\"type\": \"cat\", \"trait\": \"independence\"},\n",
    "    ),\n",
    "    Document(\n",
    "        page_content=\"Goldfish are popular pets for beginners, requiring relatively simple care.\",\n",
    "        metadata={\"type\": \"fish\", \"trait\": \"low maintenance\"},\n",
    "    ),\n",
    "    Document(\n",
    "        page_content=\"Parrots are intelligent birds capable of mimicking human speech.\",\n",
    "        metadata={\"type\": \"bird\", \"trait\": \"intelligence\"},\n",
    "    ),\n",
    "    Document(\n",
    "        page_content=\"Rabbits are social animals that need plenty of space to hop around.\",\n",
    "        metadata={\"type\": \"rabbit\", \"trait\": \"social\"},\n",
    "    ),\n",
    "]\n",
    "retriever = KeywordRetriever(documents=documents, k=3)"
   ],
   "id": "f64166c4d13fceb1",
   "outputs": [],
   "execution_count": 7
  },
  {
   "metadata": {},
   "cell_type": "markdown",
   "source": "我们就可以当做正常的 `invoke` 语句开始查询。它本质上是一个 `Runnable` 的程序，因此它将受益于标准 `Runnable` interface。",
   "id": "88e810eff55f630e"
  },
  {
   "metadata": {
    "ExecuteTime": {
     "end_time": "2025-04-08T21:26:54.209234Z",
     "start_time": "2025-04-08T21:26:53.732946Z"
    }
   },
   "cell_type": "code",
   "source": "retriever.invoke(\"that\")",
   "id": "919f3f9dc3ad3152",
   "outputs": [
    {
     "data": {
      "text/plain": [
       "[Document(metadata={'type': 'cat', 'trait': 'independence'}, page_content='Cats are independent pets that often enjoy their own space.'),\n",
       " Document(metadata={'type': 'rabbit', 'trait': 'social'}, page_content='Rabbits are social animals that need plenty of space to hop around.')]"
      ]
     },
     "execution_count": 8,
     "metadata": {},
     "output_type": "execute_result"
    }
   ],
   "execution_count": 8
  },
  {
   "metadata": {
    "ExecuteTime": {
     "end_time": "2025-04-08T21:27:24.630772Z",
     "start_time": "2025-04-08T21:27:24.617157Z"
    }
   },
   "cell_type": "code",
   "source": "await retriever.abatch([\"dog\", \"cat\"])",
   "id": "911efa276a584ff",
   "outputs": [
    {
     "data": {
      "text/plain": [
       "[[Document(metadata={'type': 'dog', 'trait': 'loyalty'}, page_content='Dogs are great companions, known for their loyalty and friendliness.')],\n",
       " [Document(metadata={'type': 'cat', 'trait': 'independence'}, page_content='Cats are independent pets that often enjoy their own space.')]]"
      ]
     },
     "execution_count": 9,
     "metadata": {},
     "output_type": "execute_result"
    }
   ],
   "execution_count": 9
  },
  {
   "metadata": {},
   "cell_type": "markdown",
   "source": [
    "到目前位置只是抛砖引玉，实际上 LangChain 也提供了我们针对 [SQL 数据的检索](https://python.langchain.com/docs/tutorials/sql_qa/)和[图数据库的检索](https://python.langchain.com/docs/tutorials/graph/)。\n",
    "\n",
    "对于语义的搜索我们已经在[上一节内容](../4-Multimodality/3-vectorstore.ipynb)介绍过。"
   ],
   "id": "caf44a84ee2e7b3d"
  }
 ],
 "metadata": {
  "kernelspec": {
   "display_name": "Python 3",
   "language": "python",
   "name": "python3"
  },
  "language_info": {
   "codemirror_mode": {
    "name": "ipython",
    "version": 2
   },
   "file_extension": ".py",
   "mimetype": "text/x-python",
   "name": "python",
   "nbconvert_exporter": "python",
   "pygments_lexer": "ipython2",
   "version": "2.7.6"
  }
 },
 "nbformat": 4,
 "nbformat_minor": 5
}
