{
 "cells": [
  {
   "metadata": {},
   "cell_type": "markdown",
   "source": [
    "一开始学习的是 Andrew Ng 的 LangChain 教程，实际上是 1 年前，但是很多包都已经 **Deprecated** 了。\n",
    "可以用 Andrew 的教程内容学习，但是 Warnings 内容中显示，会在正式版的时候弃用所有老版本的内容，因此需要新写一份。"
   ],
   "id": "ea78c5810b278e7e"
  },
  {
   "metadata": {
    "ExecuteTime": {
     "end_time": "2025-04-05T07:05:59.879135Z",
     "start_time": "2025-04-05T07:05:59.872783Z"
    }
   },
   "cell_type": "code",
   "source": [
    "from dotenv import load_dotenv, find_dotenv\n",
    "_ = load_dotenv(find_dotenv())"
   ],
   "id": "c4c9b4303d04b5c1",
   "outputs": [],
   "execution_count": 1
  },
  {
   "metadata": {},
   "cell_type": "markdown",
   "source": [
    "[Chat models 参考文档](]https://python.langchain.com/docs/concepts/chat_models/)\n",
    "\n",
    "[LLM Standard Parameters](https://python.langchain.com/docs/concepts/chat_models/#standard-parameters)"
   ],
   "id": "dcd4a055946ff094"
  },
  {
   "metadata": {
    "ExecuteTime": {
     "end_time": "2025-04-05T07:06:05.299686Z",
     "start_time": "2025-04-05T07:06:04.560537Z"
    }
   },
   "cell_type": "code",
   "source": [
    "# 旧版本的是用 from langchain.chat_models import ChatOpenAI\n",
    "from langchain_openai import ChatOpenAI\n",
    "llm = ChatOpenAI(\n",
    "    model=\"gpt-4o\", # 可以自己去匹配最新的版本\n",
    "    temperature=0.0,\n",
    "    max_tokens=2048,\n",
    "    timeout=None,\n",
    "    max_retries=2,\n",
    ")"
   ],
   "id": "7ab919c27732593a",
   "outputs": [],
   "execution_count": 2
  },
  {
   "metadata": {},
   "cell_type": "markdown",
   "source": [
    "下方是一个简单的 Demo，使用 Stream 输出，可以模拟出一段一段生成的感觉。\n",
    "\n",
    "此时 messages 完全是手动定制需求，比如 system、human 的语义。"
   ],
   "id": "ab60cc5eb1f299fc"
  },
  {
   "metadata": {
    "ExecuteTime": {
     "end_time": "2025-04-05T07:06:07.872679Z",
     "start_time": "2025-04-05T07:06:06.564371Z"
    }
   },
   "cell_type": "code",
   "source": [
    "messages = [\n",
    "    (\n",
    "        \"system\",\n",
    "        \"You are a helpful translator. Translate the user sentence to Chinese (simplified).\",\n",
    "    ),\n",
    "    (\n",
    "        \"human\",\n",
    "        \"I love programming. Because I have learnt Java, and \\ Java gives my a lot of fun, with a huge sense of achievement. \\ Also, I have used Python for multiple usages, such as Deep Learning, Data Mining and something like web crawler, which enhancing the way I fetch the information and there are many challenges there. Finally, I have learned some theoretical knowledge about Rust, even though Rust is hard to study, I find it is much more secure and precise than other languages.\"\n",
    "    ),\n",
    "]\n",
    "for chunk in llm.stream(messages):\n",
    "    print(chunk.text(), end=\"\")"
   ],
   "id": "d4deeab787f6fe71",
   "outputs": [
    {
     "name": "stdout",
     "output_type": "stream",
     "text": [
      "我热爱编程。因为我学会了Java，Java给了我很多乐趣，并带来了巨大的成就感。此外，我还使用Python进行多种用途，比如深度学习、数据挖掘和类似网络爬虫的东西，这增强了我获取信息的方式，并且其中有很多挑战。最后，我学习了一些关于Rust的理论知识，尽管Rust很难学习，但我发现它比其他语言更安全和精确。"
     ]
    }
   ],
   "execution_count": 3
  },
  {
   "metadata": {
    "ExecuteTime": {
     "end_time": "2025-04-05T07:06:08.684240Z",
     "start_time": "2025-04-05T07:06:08.681251Z"
    }
   },
   "cell_type": "code",
   "source": "print(llm) # 打印一下 LLM 被包装成了什么样的对象",
   "id": "f422da4cd4c93939",
   "outputs": [
    {
     "name": "stdout",
     "output_type": "stream",
     "text": [
      "client=<openai.resources.chat.completions.completions.Completions object at 0x113f49510> async_client=<openai.resources.chat.completions.completions.AsyncCompletions object at 0x113a93350> root_client=<openai.OpenAI object at 0x113a93c50> root_async_client=<openai.AsyncOpenAI object at 0x11465e2d0> model_name='gpt-4o' temperature=0.0 model_kwargs={} openai_api_key=SecretStr('**********') max_retries=2 max_tokens=2048\n"
     ]
    }
   ],
   "execution_count": 4
  },
  {
   "metadata": {},
   "cell_type": "markdown",
   "source": [
    "目前就是最简单的流式输出，我们纯手动定制我们的语句，不用包装后的对象。\n",
    "\n",
    "实际上，我们用 `llm.invoke` 比较多，即不是 chunk 之后的 `llm.stream`。`invoke` 方法是当接受到了所有的 output 之后再进行输出。区别可以参考官方文档。\n",
    "\n",
    "[如何流式传输LLM的响应？E.g. ainvoke, batch, abatch, stream, astream](https://python.langchain.com/docs/how_to/chat_streaming/)"
   ],
   "id": "39ea1cadbc726e62"
  },
  {
   "metadata": {
    "ExecuteTime": {
     "end_time": "2025-04-05T07:06:21.967590Z",
     "start_time": "2025-04-05T07:06:20.759291Z"
    }
   },
   "cell_type": "code",
   "source": "llm.invoke(messages) # 全部的响应内容",
   "id": "be8ffb43212da9dc",
   "outputs": [
    {
     "data": {
      "text/plain": [
       "AIMessage(content='我热爱编程。因为我学会了Java，Java给了我很多乐趣，并带来了巨大的成就感。此外，我还使用Python进行多种用途，比如深度学习、数据挖掘和类似网络爬虫的东西，这增强了我获取信息的方式，并且其中有很多挑战。最后，我学习了一些关于Rust的理论知识，尽管Rust很难学习，但我发现它比其他语言更安全和精确。', additional_kwargs={'refusal': None}, response_metadata={'token_usage': {'completion_tokens': 101, 'prompt_tokens': 125, 'total_tokens': 226, 'completion_tokens_details': {'accepted_prediction_tokens': 0, 'audio_tokens': 0, 'reasoning_tokens': 0, 'rejected_prediction_tokens': 0}, 'prompt_tokens_details': {'audio_tokens': 0, 'cached_tokens': 0}}, 'model_name': 'gpt-4o-2024-08-06', 'system_fingerprint': 'fp_de57b65c90', 'id': 'chatcmpl-BIrtc6dkHWaLlLlYSbkE1o9152Ioj', 'finish_reason': 'stop', 'logprobs': None}, id='run-52edd336-f281-4adb-b137-a35fcdf296d5-0', usage_metadata={'input_tokens': 125, 'output_tokens': 101, 'total_tokens': 226, 'input_token_details': {'audio': 0, 'cache_read': 0}, 'output_token_details': {'audio': 0, 'reasoning': 0}})"
      ]
     },
     "execution_count": 5,
     "metadata": {},
     "output_type": "execute_result"
    }
   ],
   "execution_count": 5
  },
  {
   "metadata": {
    "ExecuteTime": {
     "end_time": "2025-04-05T07:10:01.402268Z",
     "start_time": "2025-04-05T07:10:00.228965Z"
    }
   },
   "cell_type": "code",
   "source": [
    "# 如果只想获取到内容部分，用 content 属性即可\n",
    "response = llm.invoke(messages)\n",
    "print(response.content)"
   ],
   "id": "19b8503a15c88e8b",
   "outputs": [
    {
     "name": "stdout",
     "output_type": "stream",
     "text": [
      "我热爱编程。因为我学会了Java，Java给了我很多乐趣，并带来了巨大的成就感。此外，我还使用Python进行多种用途，比如深度学习、数据挖掘和类似网络爬虫的东西，这增强了我获取信息的方式，并且其中有很多挑战。最后，我学习了一些关于Rust的理论知识，尽管Rust很难学习，但我发现它比其他语言更安全和精确。\n"
     ]
    }
   ],
   "execution_count": 15
  }
 ],
 "metadata": {
  "kernelspec": {
   "display_name": "Python 3",
   "language": "python",
   "name": "python3"
  },
  "language_info": {
   "codemirror_mode": {
    "name": "ipython",
    "version": 2
   },
   "file_extension": ".py",
   "mimetype": "text/x-python",
   "name": "python",
   "nbconvert_exporter": "python",
   "pygments_lexer": "ipython2",
   "version": "2.7.6"
  }
 },
 "nbformat": 4,
 "nbformat_minor": 5
}
