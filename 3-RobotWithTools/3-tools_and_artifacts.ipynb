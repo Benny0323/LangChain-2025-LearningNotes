{
 "cells": [
  {
   "metadata": {},
   "cell_type": "markdown",
   "source": [
    "## 什么是 Artifacts\n",
    "`artifacts` 是自 0.2.19 版本之后引入的一个全新概念，是构建 LLM 应用（尤其是复杂 Agent 系统）中的关键组成部分。LangChain 开始逐步模块化，提出了“LLM 过程可观测性”的设计理念，不再只追求最终输出，还要记录中间思考路径。一句话解释：\n",
    "> `artifacts` 是 LLM 在思考过程中生成的中间产物，可以是**文本、图像、文件、代码片段、Prompt**等。它们能被记录、展示、存档，也可以供后续步骤参考或复用。\n",
    "\n",
    "传统的 LLM 调用只包括三方面：输入 → 模型 → 输出（一次性文本）。LangChain 设计了 `artifacts` 机制，用来：\n",
    "* 记录所有重要中间产物\n",
    "* 让 UI / 日志系统展示这些过程\n",
    "* 让开发者访问 LLM 思考路径中的关键节点\n"
   ],
   "id": "89494496bc793b43"
  },
  {
   "metadata": {
    "ExecuteTime": {
     "end_time": "2025-04-06T21:10:01.510573Z",
     "start_time": "2025-04-06T21:10:01.090887Z"
    }
   },
   "cell_type": "code",
   "source": [
    "from dotenv import load_dotenv, find_dotenv\n",
    "_ = load_dotenv(find_dotenv())\n",
    "\n",
    "from langchain_openai import ChatOpenAI\n",
    "\n",
    "llm = ChatOpenAI(\n",
    "    model=\"gpt-4o\",\n",
    "    temperature=0.7,  # 让我们的 Bob 机器人有一些创造性\n",
    "    max_tokens=2048,\n",
    "    timeout=None,\n",
    "    max_retries=2,\n",
    ")"
   ],
   "id": "a8483e1271a22dd7",
   "outputs": [],
   "execution_count": 2
  },
  {
   "metadata": {
    "ExecuteTime": {
     "end_time": "2025-04-06T21:30:01.266365Z",
     "start_time": "2025-04-06T21:30:01.256899Z"
    }
   },
   "cell_type": "code",
   "source": [
    "# Artifacts 作为 tool 处理的中间件，当然是从 tool 中获取的\n",
    "# 下面是个简单的例子，我们手动感受一下 Contents 和 Artifacts 的区别\n",
    "from typing import Tuple\n",
    "from langchain_core.tools import tool\n",
    "\n",
    "# 这是一个简单的工具，LLM 会自动分析出需要传入的 id，然后在数据库里面进行查找\n",
    "# 假设我们省略其中的 ORM 细节，直接获取到了一条 data\n",
    "@tool(response_format=\"content_and_artifact\")\n",
    "def get_person_sql_data(id: int) -> Tuple[str, dict]:\n",
    "    \"\"\"We mimic the process of searching someone in the database.\"\"\"\n",
    "    ### ...SUPPOSE HERE ARE SOME OPERATIONS OF ORM... ###\n",
    "    ### ...AND WE FIND THE PERSON... ###\n",
    "    content = f\"Successfully get data from database by 'SELECT * FROM DB WHERE Id={id}'.\"\n",
    "    data = {\n",
    "        \"id\": \"10086\",\n",
    "        \"name\" : \"Nethan Hu\",\n",
    "        \"birthday\" : \"2025-01-01\",\n",
    "        \"desc\": \"active and brilliant\"\n",
    "    }\n",
    "    return content, data"
   ],
   "id": "5f65cb1036778667",
   "outputs": [],
   "execution_count": 12
  },
  {
   "metadata": {
    "ExecuteTime": {
     "end_time": "2025-04-06T21:30:02.084193Z",
     "start_time": "2025-04-06T21:30:02.073916Z"
    }
   },
   "cell_type": "code",
   "source": [
    "# 经过测试，我们模拟一下通过 id 来查找“数据”\n",
    "get_person_sql_data.invoke({\"id\": 10086})"
   ],
   "id": "b4bc4df12a4b2a24",
   "outputs": [
    {
     "data": {
      "text/plain": [
       "\"Successfully get data from database by 'SELECT * FROM DB WHERE Id=10086'.\""
      ]
     },
     "execution_count": 13,
     "metadata": {},
     "output_type": "execute_result"
    }
   ],
   "execution_count": 13
  },
  {
   "metadata": {},
   "cell_type": "markdown",
   "source": "但是，可以看到我们并没有获取到SQL中的“数据”，因为不能只用简单的 invoke。",
   "id": "46fc577e243ec570"
  },
  {
   "metadata": {
    "ExecuteTime": {
     "end_time": "2025-04-06T21:28:29.115445Z",
     "start_time": "2025-04-06T21:28:29.101098Z"
    }
   },
   "cell_type": "code",
   "source": [
    "get_person_sql_data.invoke(\n",
    "    {\n",
    "        \"name\": \"generate_random_ints\",\n",
    "        \"args\": {\"id\": 10086},\n",
    "        \"id\": \"123456\",  # required\n",
    "        \"type\": \"tool_call\",  # required\n",
    "    }\n",
    ")"
   ],
   "id": "b7d3248afe533296",
   "outputs": [
    {
     "data": {
      "text/plain": [
       "ToolMessage(content=\"Successfully get data from database by 'SELECT * FROM DB WHERE Id=10086'.\", name='get_person_sql_data', tool_call_id='123456', artifact={'id': '10086', 'name': 'Nethan Hu', 'birthday': '2025-01-01', 'desc': 'active and brilliant'})"
      ]
     },
     "execution_count": 10,
     "metadata": {},
     "output_type": "execute_result"
    }
   ],
   "execution_count": 10
  },
  {
   "metadata": {},
   "cell_type": "markdown",
   "source": [
    "### 🤔 我们这样做的意义是什么呢？\n",
    "有时候我们需要 LLM 帮我们查找数据、生成图片、创作文本等，这些数据量通常很大，并且我们希望手动对它们进行再次加工（符合 artifacts 的思想），不想让它再传回到模型本身当中去（况且 LLM 处理这些大量的数据不一定正确）。\n",
    "\n",
    "比如说刚刚的模型帮我们找到了 id=10086 的这条数据。我们可以在后端对这条数据进行加工处理。在 LangSmith 上我们也可以进行验证，我们发现 LangSmith 只记录了我们的 LLM 的 output 是\n",
    "```text\n",
    "Successfully get data from database by 'SELECT * FROM DB WHERE Id=10086'.\n",
    "```\n",
    "但是并不会在 LLM 处保存 JSON 信息，只有本地能获取\n",
    "```json\n",
    "artifact={'id': '10086', 'name': 'Nethan Hu', 'birthday': '2025-01-01', 'desc': 'active and brilliant'}\n",
    "```\n",
    "因此，**只要 LLM 应用有中间步骤/结果、需要展示/存档/追踪，artifact 就是最优解。** 尤其适合写作链、图像链、RAG、代码生成、数据分析等场景。"
   ],
   "id": "b340997b90f37e06"
  }
 ],
 "metadata": {
  "kernelspec": {
   "display_name": "Python 3",
   "language": "python",
   "name": "python3"
  },
  "language_info": {
   "codemirror_mode": {
    "name": "ipython",
    "version": 2
   },
   "file_extension": ".py",
   "mimetype": "text/x-python",
   "name": "python",
   "nbconvert_exporter": "python",
   "pygments_lexer": "ipython2",
   "version": "2.7.6"
  }
 },
 "nbformat": 4,
 "nbformat_minor": 5
}
