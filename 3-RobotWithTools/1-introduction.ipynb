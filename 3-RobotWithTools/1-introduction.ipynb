{
 "cells": [
  {
   "metadata": {},
   "cell_type": "markdown",
   "source": [
    "## 什么是工具（Tools）？\n",
    "\n",
    "Tools 是一种基于 Python 函数的抽象形式，包含有函数名称、描述以及期望参数的结构 `schema`。\n",
    "\n",
    "换句话说，tools 是人为进行定义，且输入输出符合 LLM 能力范围，并且可以让 LLM 自行决定是否需要调用的一类函数体。使用注解 `@tool` 标记 tools，有若干好处：\n",
    "* 可以定制或者自动化推断工具的名称、描述和预期参数；\n",
    "* 可以定义工具来返回一些有用的 output（比如图像、dataframes 等）；\n",
    "* 从模型中隐藏输入的参数，隐式进行处理注入的参数。"
   ],
   "id": "152870ec846ae281"
  },
  {
   "metadata": {
    "ExecuteTime": {
     "end_time": "2025-04-06T00:32:47.821537Z",
     "start_time": "2025-04-06T00:32:47.001101Z"
    }
   },
   "cell_type": "code",
   "source": [
    "from typing import Annotated\n",
    "\n",
    "from dotenv import load_dotenv, find_dotenv\n",
    "\n",
    "_ = load_dotenv(find_dotenv())\n",
    "\n",
    "from langchain_openai import ChatOpenAI\n",
    "\n",
    "llm = ChatOpenAI(\n",
    "    model=\"gpt-4o\",\n",
    "    temperature=0,  # 此时需要我们的 LLM 更严谨\n",
    "    max_tokens=2048,\n",
    "    timeout=None,\n",
    "    max_retries=2,\n",
    ")"
   ],
   "id": "3630d6f65b1c01ca",
   "outputs": [],
   "execution_count": 1
  },
  {
   "metadata": {},
   "cell_type": "markdown",
   "source": "创建 LLM tool，具体的参数可以参考[官方文档](https://python.langchain.com/api_reference/core/tools/langchain_core.tools.convert.tool.html)。这里我们先使用注解进行定义一个简单的函数。",
   "id": "a60ae91c11cf11e4"
  },
  {
   "metadata": {
    "ExecuteTime": {
     "end_time": "2025-04-06T00:39:28.053789Z",
     "start_time": "2025-04-06T00:39:28.044265Z"
    }
   },
   "cell_type": "code",
   "source": [
    "from langchain_core.tools import tool\n",
    "\n",
    "\n",
    "# 这是一类被称为 Creating tools from functions 的用法\n",
    "@tool\n",
    "def multiply(a: int, b: int) -> int:\n",
    "    \"\"\"Multiply two numbers.\"\"\"\n",
    "    return a * b\n",
    "\n",
    "\n",
    "print(multiply.name)\n",
    "print(multiply.description)  # 必须需要有注释才能返回 description\n",
    "print(multiply.args)"
   ],
   "id": "e2a5e47c309a04f3",
   "outputs": [
    {
     "name": "stdout",
     "output_type": "stream",
     "text": [
      "multiply\n",
      "Multiply two numbers.\n",
      "{'a': {'title': 'A', 'type': 'integer'}, 'b': {'title': 'B', 'type': 'integer'}}\n"
     ]
    }
   ],
   "execution_count": 5
  },
  {
   "metadata": {},
   "cell_type": "markdown",
   "source": [
    "有非常多的方式可以创建 tool，在[官方文档](https://python.langchain.com/docs/how_to/custom_tools/)中还提供了更为复杂的、与别的包相互集成的用法，比如与 annotations 一起结合使用：\n",
    "```python\n",
    "from typing import Annotated, List\n",
    "\n",
    "@tool\n",
    "def multiply_by_max(\n",
    "    a: Annotated[int, \"scale factor\"],\n",
    "    b: Annotated[List[int], \"list of ints over which to take maximum\"],\n",
    ") -> int:\n",
    "    \"\"\"Multiply a by the maximum of b.\"\"\"\n",
    "    return a * max(b)\n",
    "```\n",
    "或者是与 pydantic 结合，传入 JSON 格式数据：\n",
    "```python\n",
    "from pydantic import BaseModel, Field\n",
    "\n",
    "class CalculatorInput(BaseModel):\n",
    "    a: int = Field(description=\"first number\")\n",
    "    b: int = Field(description=\"second number\")\n",
    "\n",
    "@tool(\"multiplication-tool\", args_schema=CalculatorInput, return_direct=True)\n",
    "def multiply(a: int, b: int) -> int:\n",
    "    \"\"\"Multiply two numbers.\"\"\"\n",
    "    return a * b\n",
    "```\n",
    "不加以尝试，当做了解即可。"
   ],
   "id": "f1dceed57fcce8c2"
  },
  {
   "metadata": {
    "ExecuteTime": {
     "end_time": "2025-04-06T01:30:22.367876Z",
     "start_time": "2025-04-06T01:30:22.356948Z"
    }
   },
   "cell_type": "code",
   "source": [
    "# 或者是使用类方法来初始化 tools\n",
    "from langchain_core.tools import StructuredTool\n",
    "\n",
    "\n",
    "def mult(a: int, b: int) -> int:\n",
    "    \"\"\"Multiply two numbers.\"\"\"\n",
    "    return a * b\n",
    "\n",
    "\n",
    "async def amult(a: int, b: int) -> int:\n",
    "    \"\"\"Multiply two numbers.\"\"\"\n",
    "    return a * b\n",
    "\n",
    "\n",
    "calculator = StructuredTool.from_function(func=mult, coroutine=amult)"
   ],
   "id": "c16af996f7cd4d1f",
   "outputs": [],
   "execution_count": 8
  },
  {
   "metadata": {
    "ExecuteTime": {
     "end_time": "2025-04-06T01:30:20.434078Z",
     "start_time": "2025-04-06T01:30:20.412780Z"
    }
   },
   "cell_type": "code",
   "source": [
    "# 创建好 tool 之后，我们可以调用它们得到结果\n",
    "print(calculator.invoke({\"a\": 2, \"b\": 3}))\n",
    "print(await calculator.ainvoke({\"a\": 2, \"b\": 5}))"
   ],
   "id": "8405a833c94544ab",
   "outputs": [
    {
     "name": "stdout",
     "output_type": "stream",
     "text": [
      "6\n",
      "10\n"
     ]
    }
   ],
   "execution_count": 7
  },
  {
   "metadata": {},
   "cell_type": "markdown",
   "source": [
    "## InjectedToolArg\n",
    "接下来我们讨论一下 `InjectedToolArg` 这一个 annotation，它用于告诉 LangChain：“这个参数不应该由语言模型来填充，而是我（程序员）在 Runtime 时主动传进去的。”\n",
    "\n",
    "### ❓为什么需要一个这样的函数？\n",
    "因为有一些工具类再进行操作的时候，需要带上一些 Runtime 的参数（比如当前登录着的用户、Session ID等等），这一些参数是只有后端才会知道，但不能/没必要传给 LLM，LLM 不应该也不会知道它。类比一下，比如 LLM 只需要关注合同上的条款，但不需要知道签合同的甲方乙方。因此有些函数需要“隐藏”掉一些 `schema`。\n",
    "\n",
    "### 如何在运行时传入参数给 tools 呢？\n",
    "参考官方文档[How to pass run time values to tools](https://python.langchain.com/docs/how_to/tool_runtime/)，"
   ],
   "id": "80d339483efbdfe2"
  },
  {
   "metadata": {
    "ExecuteTime": {
     "end_time": "2025-04-06T02:10:07.109606Z",
     "start_time": "2025-04-06T02:10:07.097020Z"
    }
   },
   "cell_type": "code",
   "source": [
    "from langchain_core.tools import tool, InjectedToolArg\n",
    "\n",
    "\n",
    "# 一个简单的 Runtime 案例\n",
    "@tool\n",
    "def greet(user_id: InjectedToolArg, data: str) -> str:\n",
    "    \"\"\"在用户登录的时候打招呼，然后做一个用户不在线时期的消息汇总。\"\"\"\n",
    "    return f\"Hello User {user_id}! Here is the data: {data}\"\n",
    "\n",
    "\n",
    "print('function name:', greet.name)\n",
    "print('function desc:', greet.description)  # 必须需要有注释才能返回 description\n",
    "# print('function args:',greet.args) # <--- 会报错，因为 InjectedToolArg 是一个特殊的内部类型，Pydantic 并不知道如何为它生成 schema。从侧面说明了这是一个 Runtime 参数，在静态编译的时候被“隐藏”掉了，不是一个有效的参数类型。"
   ],
   "id": "2535c6f017c06f8d",
   "outputs": [
    {
     "name": "stdout",
     "output_type": "stream",
     "text": [
      "function name: greet\n",
      "function desc: 在用户登录的时候打招呼，然后做一个用户不在线时期的消息汇总。\n"
     ]
    }
   ],
   "execution_count": 13
  },
  {
   "metadata": {
    "ExecuteTime": {
     "end_time": "2025-04-06T02:20:30.299365Z",
     "start_time": "2025-04-06T02:20:30.283492Z"
    }
   },
   "cell_type": "code",
   "source": [
    "from typing import Annotated\n",
    "\n",
    "\n",
    "# 修改一下我们刚刚的参数，我们使用 Annotated 来增强代码的鲁棒性，声明这个参数是 str 类型，但有额外元信息，\n",
    "# LangChain 会读取这个元信息并将其标记为“运行时注入的参数”。\n",
    "@tool\n",
    "def greet(\n",
    "        user_id: Annotated[str, InjectedToolArg],  # <--- 注意此处的写法\n",
    "        data: str\n",
    ") -> str:\n",
    "    \"\"\"在用户登录的时候打招呼，然后做一个用户不在线时期的消息汇总。\"\"\"\n",
    "    return f\"Hello User {user_id}! Here is the data: {data}\"\n",
    "\n",
    "\n",
    "print('Input schemas:', greet.get_input_schema().model_json_schema()['required'])\n",
    "print('Tool call schema:', greet.tool_call_schema.model_json_schema()['required'])  # <--- 可以看到调用时不需要传入 user_id"
   ],
   "id": "690476ba6f7a7186",
   "outputs": [
    {
     "name": "stdout",
     "output_type": "stream",
     "text": [
      "Input schemas: ['user_id', 'data']\n",
      "Tool call schema: ['data']\n"
     ]
    }
   ],
   "execution_count": 27
  },
  {
   "metadata": {},
   "cell_type": "markdown",
   "source": [
    "## RunnableConfig\n",
    "官方文档在[这里](https://python.langchain.com/docs/concepts/tools/#runnableconfig)，从名字可以看出来，与上面那个相似，`RunnableConfig` 在运行时将值传递给 tools。\n",
    "\n",
    "### 与 `InjectedToolArg` 的区别\n",
    "\n",
    "| 特性               | `InjectedToolArg`                 | `RunnableConfig`                   |\n",
    "|------------------|-----------------------------------|------------------------------------|\n",
    "| 传参方式             | 用函数参数注解 `Annotated`               | 用 `config={...}` 注入                |\n",
    "| 参数作用范围           | 单一参数                              | 全局上下文、可访问多字段                       |\n",
    "| 是否出现在工具 schema 中 | ❌ 否                               | ❌ 否                                |\n",
    "| 获取方式             | 直接作为函数参数                          | 通过函数参数 `config: RunnableConfig` 获取 |\n",
    "| 是否自动注入           | 否，需要显式 `.invoke(..., config=...)` | 是，框架在运行时自动传入                       |\n"
   ],
   "id": "123c2126a588de61"
  },
  {
   "metadata": {
    "ExecuteTime": {
     "end_time": "2025-04-06T02:35:41.969809Z",
     "start_time": "2025-04-06T02:35:41.953922Z"
    }
   },
   "cell_type": "code",
   "source": [
    "# 一个简单的例子\n",
    "from langchain_core.runnables import RunnableConfig\n",
    "\n",
    "\n",
    "@tool\n",
    "def secure_action(data: str, config: RunnableConfig) -> str:\n",
    "    \"\"\"执行一个需要用户身份的动作。\"\"\"\n",
    "    user_id = config['configurable'].get(\"user_id\", \"anonymous\")\n",
    "    return f\"[{user_id}] Upload the data: {data}\"\n",
    "\n",
    "\n",
    "response = secure_action.invoke(\n",
    "    {\"data\": \"Hello, how are you?\"},\n",
    "    config={\"configurable\": {\"user_id\": \"Nethan123\"}}  # <--- 如果注释掉这句话，用户名就会是 anonymous\n",
    ")\n",
    "\n",
    "print(response)"
   ],
   "id": "32ff54083d54ca1e",
   "outputs": [
    {
     "name": "stdout",
     "output_type": "stream",
     "text": [
      "[Nethan123] Upload the data: Hello, how are you?\n"
     ]
    }
   ],
   "execution_count": 34
  },
  {
   "metadata": {},
   "cell_type": "markdown",
   "source": [
    "🤔为什么 LangChain 运行的时候，模型不会知道我的 `RunnableConfig`？\n",
    "\n",
    "因为 `RunnableConfig` 是在程序运行时手动注入的，它不会被包含在 Prompt 或工具的 schema 中，所以模型完全“看不到”它。\n",
    "\n",
    "**深层原因**：LangChain 的 `RunnableConfig` 和 LLM 的“输入”是分开的两层系统。在 LangChain 中，调用链是这样分开的：\n",
    "1. LLM 可见的内容（模型输入）：\n",
    "    * Prompt\n",
    "    * Tool 的参数 schema（函数名 + 参数名 + docstring）\n",
    "\n",
    "2. LLM 不可见的内容（LangChain `RunnableConfig`）：\n",
    "    * config={\"configurable\": {...}}。这些值不会出现在 prompt，也不会出现在 function schema 中。"
   ],
   "id": "b268f08ab81e17a9"
  },
  {
   "metadata": {
    "ExecuteTime": {
     "end_time": "2025-04-06T02:58:27.542340Z",
     "start_time": "2025-04-06T02:58:27.530792Z"
    }
   },
   "cell_type": "code",
   "source": [
    "@tool\n",
    "def secure_action(content: str, config: RunnableConfig) -> str:\n",
    "    \"\"\"帮用户看一看合同条款，找出有纰漏的地方并提出修改建议。\"\"\"\n",
    "    user_a = config['configurable'].get(\"user_a\", \"anonymous\")\n",
    "    user_b = config['configurable'].get(\"user_b\", \"anonymous\")\n",
    "    return f\"The contract of [{user_a} and {user_b}] has content of {content}...\"\n",
    "\n",
    "\n",
    "# 我们调用的方式为如下\n",
    "action = secure_action.invoke(\n",
    "    {\"content\": \"Contract content: ******\"},\n",
    "    config={\n",
    "        \"configurable\": {\"user_a\": \"Alice\", \"user_b\": \"Bob\"}\n",
    "    }\n",
    ")\n",
    "\n",
    "print(\"In the view of programmer:\", action)\n",
    "print(\"===============================================================\")\n",
    "print(\"In the view of LLM:\", 'secure_action(content=\"Contract content: ******\")')\n",
    "print(secure_action.tool_call_schema.model_json_schema())"
   ],
   "id": "a142133db88d374d",
   "outputs": [
    {
     "name": "stdout",
     "output_type": "stream",
     "text": [
      "In the view of programmer: The contract of [Alice and Bob] has content of Contract content: ******...\n",
      "===============================================================\n",
      "In the view of LLM: secure_action(content=\"Contract content: ******\")\n",
      "{'description': '帮用户看一看合同条款，找出有纰漏的地方并提出修改建议。', 'properties': {'content': {'title': 'Content', 'type': 'string'}}, 'required': ['content'], 'title': 'secure_action', 'type': 'object'}\n"
     ]
    }
   ],
   "execution_count": 41
  },
  {
   "metadata": {},
   "cell_type": "markdown",
   "source": [
    "我们已经接近 LangChain Runtime injection 的核心问题了：\n",
    "\n",
    "在后端人员看来，是知道传入了什么参数，所以 `action` 在后端看来是：\n",
    "```text\n",
    "The contract of [Alice and Bob] has content of Contract content: ******...\n",
    "```\n",
    "但是在 LLM 看来，它并不知道我们究竟传入了哪些参数，这些参数对它是隐藏的，因此在它看来，它只需要完成这样一个函数的 schema 即可（即根据 content 修改合同的内容。）\n",
    "```json\n",
    "{\n",
    "  \"name\": \"secure_action\",\n",
    "  \"description\": \"帮用户看一看合同条款，找出有纰漏的地方并提出修改建议。\",\n",
    "  \"parameters\": {\n",
    "    \"content\": {\n",
    "      \"type\": \"string\",\n",
    "      \"description\": \"\"\n",
    "    }\n",
    "  }\n",
    "}\n",
    "```\n",
    "\n",
    "因此我们引入官方文档的一句话：LangChain 通过 `RunnableConfig` 和 `InjectedToolArg`，将“模型能看到的输入”和“程序员注入的控制参数”分离开来，实现更安全、更灵活、更可控的 Tool 调用方式。"
   ],
   "id": "9f977e40bcd3f204"
  },
  {
   "metadata": {},
   "cell_type": "markdown",
   "source": "官方文档内还有 [InjectedState](https://langchain-ai.github.io/langgraph/reference/prebuilt/#langgraph.prebuilt.tool_node.InjectedState) 和 [InjectedStore](https://langchain-ai.github.io/langgraph/reference/prebuilt/#langgraph.prebuilt.tool_node.InjectedStore) 两个高级功能，后续继续补充。对于学习到这里而言，已经是掌握 tools 定义的基本用法了。",
   "id": "e734ccc7c224dd6"
  }
 ],
 "metadata": {
  "kernelspec": {
   "display_name": "Python 3",
   "language": "python",
   "name": "python3"
  },
  "language_info": {
   "codemirror_mode": {
    "name": "ipython",
    "version": 2
   },
   "file_extension": ".py",
   "mimetype": "text/x-python",
   "name": "python",
   "nbconvert_exporter": "python",
   "pygments_lexer": "ipython2",
   "version": "2.7.6"
  }
 },
 "nbformat": 4,
 "nbformat_minor": 5
}
